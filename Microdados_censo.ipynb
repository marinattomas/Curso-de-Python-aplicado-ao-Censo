{
 "cells": [
  {
   "cell_type": "markdown",
   "metadata": {},
   "source": [
    "# Curso introdutório de Python "
   ]
  },
  {
   "cell_type": "markdown",
   "metadata": {},
   "source": [
    "Curso introdutório de python ofertado pelo CEDEPLAR/UFMG.\n",
    "\n",
    "**Professores :** Marina Amorim e Marina Tomás\n"
   ]
  },
  {
   "cell_type": "markdown",
   "metadata": {},
   "source": [
    "###### Comando para mostrar o diretório de trabalho"
   ]
  },
  {
   "cell_type": "code",
   "execution_count": 1,
   "metadata": {},
   "outputs": [
    {
     "data": {
      "text/plain": [
       "'C:\\\\Users\\\\marin\\\\Downloads\\\\Curso Python\\\\Abrindo dados Censo\\\\AC'"
      ]
     },
     "execution_count": 1,
     "metadata": {},
     "output_type": "execute_result"
    }
   ],
   "source": [
    "# importando pacotes necessários para análise\n",
    "import numpy as np\n",
    "import pandas as pd\n",
    "import os\n",
    "import matplotlib.pyplot as plt\n",
    "import seaborn as sns\n",
    "\n",
    "# mostra o diretório de trabalho atual\n",
    "os.getcwd() "
   ]
  },
  {
   "cell_type": "markdown",
   "metadata": {},
   "source": [
    "Caso os arquivos que você tem interesse em carregar ou salvar não estejam no diretório do seu notebook, você pode definir manualmente o diretório. O comando está a seguir."
   ]
  },
  {
   "cell_type": "code",
   "execution_count": 2,
   "metadata": {},
   "outputs": [
    {
     "data": {
      "text/plain": [
       "'C:\\\\Users\\\\marin\\\\Downloads\\\\Curso Python\\\\Abrindo dados Censo\\\\AC'"
      ]
     },
     "execution_count": 2,
     "metadata": {},
     "output_type": "execute_result"
    }
   ],
   "source": [
    "# muda o diretório\n",
    "os.chdir('C:\\\\Users\\\\marin\\\\Downloads\\\\Curso Python\\\\Abrindo dados Censo\\\\AC') \n",
    "os.getcwd()"
   ]
  },
  {
   "cell_type": "code",
   "execution_count": 3,
   "metadata": {},
   "outputs": [],
   "source": [
    "# Carregar os arquivos com os layouts \n",
    "layout = pd.ExcelFile('C:/Users/marin/Downloads/Curso Python/Abrindo dados Censo/AC/layouts/Layout_microdados_Amostra.xlsx')\n",
    "layout_domi = pd.read_excel(layout, 'DOMI', skiprows=1)\n",
    "layout_pess = pd.read_excel(layout, 'PESS', skiprows=1)\n",
    "\n",
    "# Cria as variáveis de layout\n",
    "# Ou seja, mostrar para o software como identificar ponto inicial e final de cada variavel\n",
    "variable_name_domi = layout_domi['VAR']\n",
    "variable_name_pess = layout_pess['VAR']\n",
    "initial_positions_domi = layout_domi['POSIÇÃO INICIAL']\n",
    "initial_positions_pess = layout_pess['POSIÇÃO INICIAL']\n",
    "final_positions_domi = layout_domi['POSIÇÃO FINAL']\n",
    "final_positions_pess = layout_pess['POSIÇÃO FINAL']\n",
    "decimals_domi = layout_domi['DEC'].fillna(0).map(lambda x: 10**x)\n",
    "decimals_pess = layout_pess['DEC'].fillna(0).map(lambda x: 10**x)\n",
    "tipo_domi=layout_domi['TIPO']\n",
    "\n",
    "list_of_tuples_domi = [(x-1, y) for x,y in zip(initial_positions_domi, final_positions_domi)]\n",
    "list_of_tuples_pess = [(x-1, y) for x,y in zip(initial_positions_pess, final_positions_pess)]"
   ]
  },
  {
   "cell_type": "markdown",
   "metadata": {},
   "source": [
    "##### Cabeçalho do objeto layout"
   ]
  },
  {
   "cell_type": "code",
   "execution_count": 5,
   "metadata": {},
   "outputs": [
    {
     "data": {
      "text/html": [
       "<div>\n",
       "<style scoped>\n",
       "    .dataframe tbody tr th:only-of-type {\n",
       "        vertical-align: middle;\n",
       "    }\n",
       "\n",
       "    .dataframe tbody tr th {\n",
       "        vertical-align: top;\n",
       "    }\n",
       "\n",
       "    .dataframe thead th {\n",
       "        text-align: right;\n",
       "    }\n",
       "</style>\n",
       "<table border=\"1\" class=\"dataframe\">\n",
       "  <thead>\n",
       "    <tr style=\"text-align: right;\">\n",
       "      <th></th>\n",
       "      <th>VAR</th>\n",
       "      <th>NOME</th>\n",
       "      <th>Unnamed: 2</th>\n",
       "      <th>Unnamed: 3</th>\n",
       "      <th>Unnamed: 4</th>\n",
       "      <th>Unnamed: 5</th>\n",
       "      <th>Unnamed: 6</th>\n",
       "      <th>POSIÇÃO INICIAL</th>\n",
       "      <th>POSIÇÃO FINAL</th>\n",
       "      <th>INT</th>\n",
       "      <th>DEC</th>\n",
       "      <th>TIPO</th>\n",
       "    </tr>\n",
       "  </thead>\n",
       "  <tbody>\n",
       "    <tr>\n",
       "      <th>0</th>\n",
       "      <td>V0001</td>\n",
       "      <td>UNIDADE DA FEDERAÇÃO:\\n11- Rondônia\\n12- Acre\\...</td>\n",
       "      <td>NaN</td>\n",
       "      <td>NaN</td>\n",
       "      <td>NaN</td>\n",
       "      <td>NaN</td>\n",
       "      <td>NaN</td>\n",
       "      <td>1</td>\n",
       "      <td>2</td>\n",
       "      <td>2</td>\n",
       "      <td>NaN</td>\n",
       "      <td>A</td>\n",
       "    </tr>\n",
       "    <tr>\n",
       "      <th>1</th>\n",
       "      <td>V0002</td>\n",
       "      <td>CÓDIGO DO MUNICÍPIO</td>\n",
       "      <td>NaN</td>\n",
       "      <td>NaN</td>\n",
       "      <td>NaN</td>\n",
       "      <td>NaN</td>\n",
       "      <td>NaN</td>\n",
       "      <td>3</td>\n",
       "      <td>7</td>\n",
       "      <td>5</td>\n",
       "      <td>NaN</td>\n",
       "      <td>A</td>\n",
       "    </tr>\n",
       "    <tr>\n",
       "      <th>2</th>\n",
       "      <td>V0011</td>\n",
       "      <td>ÁREA DE PONDERAÇÃO</td>\n",
       "      <td>NaN</td>\n",
       "      <td>NaN</td>\n",
       "      <td>NaN</td>\n",
       "      <td>NaN</td>\n",
       "      <td>NaN</td>\n",
       "      <td>8</td>\n",
       "      <td>20</td>\n",
       "      <td>13</td>\n",
       "      <td>NaN</td>\n",
       "      <td>A</td>\n",
       "    </tr>\n",
       "    <tr>\n",
       "      <th>3</th>\n",
       "      <td>V0300</td>\n",
       "      <td>CONTROLE</td>\n",
       "      <td>NaN</td>\n",
       "      <td>NaN</td>\n",
       "      <td>NaN</td>\n",
       "      <td>NaN</td>\n",
       "      <td>NaN</td>\n",
       "      <td>21</td>\n",
       "      <td>28</td>\n",
       "      <td>8</td>\n",
       "      <td>NaN</td>\n",
       "      <td>N</td>\n",
       "    </tr>\n",
       "    <tr>\n",
       "      <th>4</th>\n",
       "      <td>V0010</td>\n",
       "      <td>PESO AMOSTRAL</td>\n",
       "      <td>NaN</td>\n",
       "      <td>NaN</td>\n",
       "      <td>NaN</td>\n",
       "      <td>NaN</td>\n",
       "      <td>NaN</td>\n",
       "      <td>29</td>\n",
       "      <td>44</td>\n",
       "      <td>3</td>\n",
       "      <td>13.0</td>\n",
       "      <td>N</td>\n",
       "    </tr>\n",
       "  </tbody>\n",
       "</table>\n",
       "</div>"
      ],
      "text/plain": [
       "     VAR                                               NOME  Unnamed: 2  \\\n",
       "0  V0001  UNIDADE DA FEDERAÇÃO:\\n11- Rondônia\\n12- Acre\\...         NaN   \n",
       "1  V0002                                CÓDIGO DO MUNICÍPIO         NaN   \n",
       "2  V0011                                 ÁREA DE PONDERAÇÃO         NaN   \n",
       "3  V0300                                           CONTROLE         NaN   \n",
       "4  V0010                                      PESO AMOSTRAL         NaN   \n",
       "\n",
       "   Unnamed: 3  Unnamed: 4  Unnamed: 5  Unnamed: 6  POSIÇÃO INICIAL  \\\n",
       "0         NaN         NaN         NaN         NaN                1   \n",
       "1         NaN         NaN         NaN         NaN                3   \n",
       "2         NaN         NaN         NaN         NaN                8   \n",
       "3         NaN         NaN         NaN         NaN               21   \n",
       "4         NaN         NaN         NaN         NaN               29   \n",
       "\n",
       "   POSIÇÃO FINAL  INT   DEC TIPO  \n",
       "0              2    2   NaN    A  \n",
       "1              7    5   NaN    A  \n",
       "2             20   13   NaN    A  \n",
       "3             28    8   NaN    N  \n",
       "4             44    3  13.0    N  "
      ]
     },
     "execution_count": 5,
     "metadata": {},
     "output_type": "execute_result"
    }
   ],
   "source": [
    "layout_domi.head() "
   ]
  },
  {
   "cell_type": "markdown",
   "metadata": {},
   "source": [
    "###### Definindo lista de variaveis numericas"
   ]
  },
  {
   "cell_type": "code",
   "execution_count": 6,
   "metadata": {},
   "outputs": [
    {
     "data": {
      "text/plain": [
       "3     V0300\n",
       "4     V0010\n",
       "13    V2011\n",
       "14    V2012\n",
       "16    V0203\n",
       "Name: VAR, dtype: object"
      ]
     },
     "execution_count": 6,
     "metadata": {},
     "output_type": "execute_result"
    }
   ],
   "source": [
    "domi_num =  layout_domi[layout_domi['TIPO']=='N']\n",
    "domi_names_num = domi_num['VAR']\n",
    "domi_names_num.head()"
   ]
  },
  {
   "cell_type": "markdown",
   "metadata": {},
   "source": [
    "##### Definindo lista de variáveis categóricas"
   ]
  },
  {
   "cell_type": "code",
   "execution_count": 7,
   "metadata": {},
   "outputs": [
    {
     "data": {
      "text/plain": [
       "0    V0001\n",
       "1    V0002\n",
       "2    V0011\n",
       "5    V1001\n",
       "6    V1002\n",
       "Name: VAR, dtype: object"
      ]
     },
     "execution_count": 7,
     "metadata": {},
     "output_type": "execute_result"
    }
   ],
   "source": [
    "domi_cat =  layout_domi[layout_domi['TIPO']!='N']\n",
    "domi_names_cat = domi_cat['VAR']\n",
    "domi_names_cat.head()"
   ]
  },
  {
   "cell_type": "markdown",
   "metadata": {},
   "source": [
    "##### Sequência de código para ler os arquivos de domicílios e pessoas do censo e utilizar o separador de microdados (ponto inicial e final). "
   ]
  },
  {
   "cell_type": "code",
   "execution_count": 8,
   "metadata": {},
   "outputs": [
    {
     "name": "stdout",
     "output_type": "stream",
     "text": [
      "Wall time: 3min 19s\n"
     ]
    }
   ],
   "source": [
    "%%time \n",
    "# %%time calcula o tempo que o algoritmo demora para rodar\n",
    "\n",
    "# Abre e salva em dataframe os arquivos de microdados\n",
    "\n",
    "dict_domicilios = {}\n",
    "files_to_read_domi = os.listdir('C:/Users/marin/Downloads/Curso Python/Abrindo dados Censo/AC/amostras_trabalho/domicilios')\n",
    "\n",
    "dict_pessoas = {}\n",
    "files_to_read_pess = os.listdir('C:/Users/marin/Downloads/Curso Python/Abrindo dados Censo/AC/amostras_trabalho/pessoas')\n",
    "\n",
    "# Abre os arquivos de domicílio\n",
    "for file in files_to_read_domi:\n",
    "    df = pd.read_fwf('C:/Users/marin/Downloads/Curso Python/Abrindo dados Censo/AC/amostras_trabalho/domicilios/{}'.format(file), colspecs=list_of_tuples_domi, header=None)\n",
    "    df = df.astype(float).divide(decimals_domi, axis=1)\n",
    "    df.columns = variable_name_domi.values\n",
    "    df = df.astype(object)\n",
    "    df = df.applymap(lambda x: str(x).replace('.0', ''))\n",
    "    dict_domicilios.update({'{}'.format(file): df})\n",
    "    \n",
    "\n",
    "# Abre os arquivos de pessoas\n",
    "for file in files_to_read_pess:\n",
    "    df = pd.read_fwf('C:/Users/marin/Downloads/Curso Python/Abrindo dados Censo/AC/amostras_trabalho/pessoas/{}'.format(file), colspecs=list_of_tuples_pess, header=None)\n",
    "    df = df.astype(float).divide(decimals_pess, axis=1)\n",
    "    df.columns = variable_name_pess.values\n",
    "    df = df.applymap(lambda x: str(x).replace('.0', ''))\n",
    "    df = df.astype(object)\n",
    "    dict_pessoas.update({'{}'.format(file): df})"
   ]
  },
  {
   "cell_type": "markdown",
   "metadata": {},
   "source": [
    "##### Concatena os dataframes de todos os estados em uma base de dados única\n",
    "\n",
    "No nosso curso vamos trabalhar apenas com a base de dados de dois estados (AC e RO) pois, o custo computacional para trabalhar com todos os estados é grande e pode demorar um pouco para rodar as análises. O nosso intuito é aprender como manipular os dados utilizando o Python, entender a lógica do sotfware. "
   ]
  },
  {
   "cell_type": "code",
   "execution_count": 9,
   "metadata": {},
   "outputs": [],
   "source": [
    "domicilios = pd.concat(dict_domicilios.values(), ignore_index=True) # contatenando a base de domicilio dos dois estados\n",
    "pessoas = pd.concat(dict_pessoas.values(), ignore_index=True) # contatenando a base de pessoas dos dois estados"
   ]
  },
  {
   "cell_type": "markdown",
   "metadata": {},
   "source": [
    "### Comandos básicos para explorar Dataframe"
   ]
  },
  {
   "cell_type": "code",
   "execution_count": 10,
   "metadata": {},
   "outputs": [
    {
     "name": "stdout",
     "output_type": "stream",
     "text": [
      "<class 'pandas.core.frame.DataFrame'>\n",
      "RangeIndex: 82653 entries, 0 to 82652\n",
      "Data columns (total 76 columns):\n",
      "V0001    82653 non-null object\n",
      "V0002    82653 non-null object\n",
      "V0011    82653 non-null object\n",
      "V0300    82653 non-null object\n",
      "V0010    82653 non-null object\n",
      "V1001    82653 non-null object\n",
      "V1002    82653 non-null object\n",
      "V1003    82653 non-null object\n",
      "V1004    82653 non-null object\n",
      "V1006    82653 non-null object\n",
      "V4001    82653 non-null object\n",
      "V4002    82653 non-null object\n",
      "V0201    82653 non-null object\n",
      "V2011    82653 non-null object\n",
      "V2012    82653 non-null object\n",
      "V0202    82653 non-null object\n",
      "V0203    82653 non-null object\n",
      "V6203    82653 non-null object\n",
      "V0204    82653 non-null object\n",
      "V6204    82653 non-null object\n",
      "V0205    82653 non-null object\n",
      "V0206    82653 non-null object\n",
      "V0207    82653 non-null object\n",
      "V0208    82653 non-null object\n",
      "V0209    82653 non-null object\n",
      "V0210    82653 non-null object\n",
      "V0211    82653 non-null object\n",
      "V0212    82653 non-null object\n",
      "V0213    82653 non-null object\n",
      "V0214    82653 non-null object\n",
      "V0215    82653 non-null object\n",
      "V0216    82653 non-null object\n",
      "V0217    82653 non-null object\n",
      "V0218    82653 non-null object\n",
      "V0219    82653 non-null object\n",
      "V0220    82653 non-null object\n",
      "V0221    82653 non-null object\n",
      "V0222    82653 non-null object\n",
      "V0301    82653 non-null object\n",
      "V0401    82653 non-null object\n",
      "V0402    82653 non-null object\n",
      "V0701    82653 non-null object\n",
      "V6529    82653 non-null object\n",
      "V6530    82653 non-null object\n",
      "V6531    82653 non-null object\n",
      "V6532    82653 non-null object\n",
      "V6600    82653 non-null object\n",
      "V6210    82653 non-null object\n",
      "M0201    82653 non-null object\n",
      "M2011    82653 non-null object\n",
      "M0202    82653 non-null object\n",
      "M0203    82653 non-null object\n",
      "M0204    82653 non-null object\n",
      "M0205    82653 non-null object\n",
      "M0206    82653 non-null object\n",
      "M0207    82653 non-null object\n",
      "M0208    82653 non-null object\n",
      "M0209    82653 non-null object\n",
      "M0210    82653 non-null object\n",
      "M0211    82653 non-null object\n",
      "M0212    82653 non-null object\n",
      "M0213    82653 non-null object\n",
      "M0214    82653 non-null object\n",
      "M0215    82653 non-null object\n",
      "M0216    82653 non-null object\n",
      "M0217    82653 non-null object\n",
      "M0218    82653 non-null object\n",
      "M0219    82653 non-null object\n",
      "M0220    82653 non-null object\n",
      "M0221    82653 non-null object\n",
      "M0222    82653 non-null object\n",
      "M0301    82653 non-null object\n",
      "M0401    82653 non-null object\n",
      "M0402    82653 non-null object\n",
      "M0701    82653 non-null object\n",
      "V1005    82653 non-null object\n",
      "dtypes: object(76)\n",
      "memory usage: 47.9+ MB\n"
     ]
    }
   ],
   "source": [
    "domicilios.info() # para dar um resumo de valores não-nulos encontrados"
   ]
  },
  {
   "cell_type": "code",
   "execution_count": 11,
   "metadata": {},
   "outputs": [
    {
     "data": {
      "text/plain": [
       "V0001    object\n",
       "V0002    object\n",
       "V0011    object\n",
       "V0300    object\n",
       "V0010    object\n",
       "V1001    object\n",
       "V1002    object\n",
       "V1003    object\n",
       "V1004    object\n",
       "V1006    object\n",
       "V4001    object\n",
       "V4002    object\n",
       "V0201    object\n",
       "V2011    object\n",
       "V2012    object\n",
       "V0202    object\n",
       "V0203    object\n",
       "V6203    object\n",
       "V0204    object\n",
       "V6204    object\n",
       "V0205    object\n",
       "V0206    object\n",
       "V0207    object\n",
       "V0208    object\n",
       "V0209    object\n",
       "V0210    object\n",
       "V0211    object\n",
       "V0212    object\n",
       "V0213    object\n",
       "V0214    object\n",
       "          ...  \n",
       "V6600    object\n",
       "V6210    object\n",
       "M0201    object\n",
       "M2011    object\n",
       "M0202    object\n",
       "M0203    object\n",
       "M0204    object\n",
       "M0205    object\n",
       "M0206    object\n",
       "M0207    object\n",
       "M0208    object\n",
       "M0209    object\n",
       "M0210    object\n",
       "M0211    object\n",
       "M0212    object\n",
       "M0213    object\n",
       "M0214    object\n",
       "M0215    object\n",
       "M0216    object\n",
       "M0217    object\n",
       "M0218    object\n",
       "M0219    object\n",
       "M0220    object\n",
       "M0221    object\n",
       "M0222    object\n",
       "M0301    object\n",
       "M0401    object\n",
       "M0402    object\n",
       "M0701    object\n",
       "V1005    object\n",
       "Length: 76, dtype: object"
      ]
     },
     "execution_count": 11,
     "metadata": {},
     "output_type": "execute_result"
    }
   ],
   "source": [
    "domicilios.dtypes # tipo das variaveis de cada coluna"
   ]
  },
  {
   "cell_type": "code",
   "execution_count": 12,
   "metadata": {},
   "outputs": [
    {
     "data": {
      "text/html": [
       "<div>\n",
       "<style scoped>\n",
       "    .dataframe tbody tr th:only-of-type {\n",
       "        vertical-align: middle;\n",
       "    }\n",
       "\n",
       "    .dataframe tbody tr th {\n",
       "        vertical-align: top;\n",
       "    }\n",
       "\n",
       "    .dataframe thead th {\n",
       "        text-align: right;\n",
       "    }\n",
       "</style>\n",
       "<table border=\"1\" class=\"dataframe\">\n",
       "  <thead>\n",
       "    <tr style=\"text-align: right;\">\n",
       "      <th></th>\n",
       "      <th>V0001</th>\n",
       "      <th>V0002</th>\n",
       "      <th>V0011</th>\n",
       "      <th>V0300</th>\n",
       "      <th>V0010</th>\n",
       "      <th>V1001</th>\n",
       "      <th>V1002</th>\n",
       "      <th>V1003</th>\n",
       "      <th>V1004</th>\n",
       "      <th>V1006</th>\n",
       "      <th>...</th>\n",
       "      <th>M0218</th>\n",
       "      <th>M0219</th>\n",
       "      <th>M0220</th>\n",
       "      <th>M0221</th>\n",
       "      <th>M0222</th>\n",
       "      <th>M0301</th>\n",
       "      <th>M0401</th>\n",
       "      <th>M0402</th>\n",
       "      <th>M0701</th>\n",
       "      <th>V1005</th>\n",
       "    </tr>\n",
       "  </thead>\n",
       "  <tbody>\n",
       "    <tr>\n",
       "      <th>0</th>\n",
       "      <td>12</td>\n",
       "      <td>13</td>\n",
       "      <td>1200013001001</td>\n",
       "      <td>20683</td>\n",
       "      <td>4.6799488342461</td>\n",
       "      <td>1</td>\n",
       "      <td>2</td>\n",
       "      <td>4</td>\n",
       "      <td>0</td>\n",
       "      <td>1</td>\n",
       "      <td>...</td>\n",
       "      <td>2</td>\n",
       "      <td>2</td>\n",
       "      <td>2</td>\n",
       "      <td>2</td>\n",
       "      <td>2</td>\n",
       "      <td>2</td>\n",
       "      <td>2</td>\n",
       "      <td>1</td>\n",
       "      <td>2</td>\n",
       "      <td>1</td>\n",
       "    </tr>\n",
       "    <tr>\n",
       "      <th>1</th>\n",
       "      <td>12</td>\n",
       "      <td>13</td>\n",
       "      <td>1200013001001</td>\n",
       "      <td>20693</td>\n",
       "      <td>4.2855582731854</td>\n",
       "      <td>1</td>\n",
       "      <td>2</td>\n",
       "      <td>4</td>\n",
       "      <td>0</td>\n",
       "      <td>1</td>\n",
       "      <td>...</td>\n",
       "      <td>2</td>\n",
       "      <td>2</td>\n",
       "      <td>2</td>\n",
       "      <td>2</td>\n",
       "      <td>2</td>\n",
       "      <td>2</td>\n",
       "      <td>2</td>\n",
       "      <td>2</td>\n",
       "      <td>2</td>\n",
       "      <td>1</td>\n",
       "    </tr>\n",
       "    <tr>\n",
       "      <th>2</th>\n",
       "      <td>12</td>\n",
       "      <td>13</td>\n",
       "      <td>1200013001001</td>\n",
       "      <td>44285</td>\n",
       "      <td>4.3240115130412</td>\n",
       "      <td>1</td>\n",
       "      <td>2</td>\n",
       "      <td>4</td>\n",
       "      <td>0</td>\n",
       "      <td>1</td>\n",
       "      <td>...</td>\n",
       "      <td>2</td>\n",
       "      <td>2</td>\n",
       "      <td>2</td>\n",
       "      <td>2</td>\n",
       "      <td>2</td>\n",
       "      <td>2</td>\n",
       "      <td>2</td>\n",
       "      <td>2</td>\n",
       "      <td>2</td>\n",
       "      <td>1</td>\n",
       "    </tr>\n",
       "    <tr>\n",
       "      <th>3</th>\n",
       "      <td>12</td>\n",
       "      <td>13</td>\n",
       "      <td>1200013001001</td>\n",
       "      <td>62701</td>\n",
       "      <td>4.903580211638</td>\n",
       "      <td>1</td>\n",
       "      <td>2</td>\n",
       "      <td>4</td>\n",
       "      <td>0</td>\n",
       "      <td>2</td>\n",
       "      <td>...</td>\n",
       "      <td>2</td>\n",
       "      <td>2</td>\n",
       "      <td>2</td>\n",
       "      <td>2</td>\n",
       "      <td>2</td>\n",
       "      <td>2</td>\n",
       "      <td>2</td>\n",
       "      <td>2</td>\n",
       "      <td>2</td>\n",
       "      <td>8</td>\n",
       "    </tr>\n",
       "    <tr>\n",
       "      <th>4</th>\n",
       "      <td>12</td>\n",
       "      <td>13</td>\n",
       "      <td>1200013001001</td>\n",
       "      <td>66206</td>\n",
       "      <td>5.7325157880065</td>\n",
       "      <td>1</td>\n",
       "      <td>2</td>\n",
       "      <td>4</td>\n",
       "      <td>0</td>\n",
       "      <td>2</td>\n",
       "      <td>...</td>\n",
       "      <td>2</td>\n",
       "      <td>2</td>\n",
       "      <td>2</td>\n",
       "      <td>2</td>\n",
       "      <td>2</td>\n",
       "      <td>2</td>\n",
       "      <td>2</td>\n",
       "      <td>2</td>\n",
       "      <td>2</td>\n",
       "      <td>8</td>\n",
       "    </tr>\n",
       "  </tbody>\n",
       "</table>\n",
       "<p>5 rows × 76 columns</p>\n",
       "</div>"
      ],
      "text/plain": [
       "  V0001 V0002          V0011  V0300            V0010 V1001 V1002 V1003 V1004  \\\n",
       "0    12    13  1200013001001  20683  4.6799488342461     1     2     4     0   \n",
       "1    12    13  1200013001001  20693  4.2855582731854     1     2     4     0   \n",
       "2    12    13  1200013001001  44285  4.3240115130412     1     2     4     0   \n",
       "3    12    13  1200013001001  62701   4.903580211638     1     2     4     0   \n",
       "4    12    13  1200013001001  66206  5.7325157880065     1     2     4     0   \n",
       "\n",
       "  V1006  ...  M0218 M0219 M0220 M0221 M0222 M0301 M0401 M0402 M0701 V1005  \n",
       "0     1  ...      2     2     2     2     2     2     2     1     2     1  \n",
       "1     1  ...      2     2     2     2     2     2     2     2     2     1  \n",
       "2     1  ...      2     2     2     2     2     2     2     2     2     1  \n",
       "3     2  ...      2     2     2     2     2     2     2     2     2     8  \n",
       "4     2  ...      2     2     2     2     2     2     2     2     2     8  \n",
       "\n",
       "[5 rows x 76 columns]"
      ]
     },
     "execution_count": 12,
     "metadata": {},
     "output_type": "execute_result"
    }
   ],
   "source": [
    "domicilios.head() # cabeçalho \n"
   ]
  },
  {
   "cell_type": "markdown",
   "metadata": {},
   "source": [
    "Para o comando **head()** se não definir um valor de n, ele apresenta as 6 primeiras linhas de todas as colunas da base de dados. Se você definir o valor de n ele mostra a quantidade especificada."
   ]
  },
  {
   "cell_type": "code",
   "execution_count": 13,
   "metadata": {},
   "outputs": [
    {
     "data": {
      "text/html": [
       "<div>\n",
       "<style scoped>\n",
       "    .dataframe tbody tr th:only-of-type {\n",
       "        vertical-align: middle;\n",
       "    }\n",
       "\n",
       "    .dataframe tbody tr th {\n",
       "        vertical-align: top;\n",
       "    }\n",
       "\n",
       "    .dataframe thead th {\n",
       "        text-align: right;\n",
       "    }\n",
       "</style>\n",
       "<table border=\"1\" class=\"dataframe\">\n",
       "  <thead>\n",
       "    <tr style=\"text-align: right;\">\n",
       "      <th></th>\n",
       "      <th>V0001</th>\n",
       "      <th>V0002</th>\n",
       "      <th>V0011</th>\n",
       "      <th>V0300</th>\n",
       "      <th>V0010</th>\n",
       "      <th>V1001</th>\n",
       "      <th>V1002</th>\n",
       "      <th>V1003</th>\n",
       "      <th>V1004</th>\n",
       "      <th>V1006</th>\n",
       "      <th>...</th>\n",
       "      <th>M6693</th>\n",
       "      <th>M0670</th>\n",
       "      <th>M0671</th>\n",
       "      <th>M6800</th>\n",
       "      <th>M6121</th>\n",
       "      <th>M0604</th>\n",
       "      <th>M0605</th>\n",
       "      <th>M6462</th>\n",
       "      <th>M6472</th>\n",
       "      <th>V1005</th>\n",
       "    </tr>\n",
       "  </thead>\n",
       "  <tbody>\n",
       "    <tr>\n",
       "      <th>0</th>\n",
       "      <td>12</td>\n",
       "      <td>13</td>\n",
       "      <td>1200013001001</td>\n",
       "      <td>20683</td>\n",
       "      <td>4.6799488342461</td>\n",
       "      <td>1</td>\n",
       "      <td>2</td>\n",
       "      <td>4</td>\n",
       "      <td>0</td>\n",
       "      <td>1</td>\n",
       "      <td>...</td>\n",
       "      <td>2</td>\n",
       "      <td>2</td>\n",
       "      <td>2</td>\n",
       "      <td>2</td>\n",
       "      <td>2</td>\n",
       "      <td>2</td>\n",
       "      <td>2</td>\n",
       "      <td>2</td>\n",
       "      <td>2</td>\n",
       "      <td>1</td>\n",
       "    </tr>\n",
       "    <tr>\n",
       "      <th>1</th>\n",
       "      <td>12</td>\n",
       "      <td>13</td>\n",
       "      <td>1200013001001</td>\n",
       "      <td>20693</td>\n",
       "      <td>4.2855582731854</td>\n",
       "      <td>1</td>\n",
       "      <td>2</td>\n",
       "      <td>4</td>\n",
       "      <td>0</td>\n",
       "      <td>1</td>\n",
       "      <td>...</td>\n",
       "      <td>2</td>\n",
       "      <td>2</td>\n",
       "      <td>2</td>\n",
       "      <td>2</td>\n",
       "      <td>2</td>\n",
       "      <td>2</td>\n",
       "      <td>2</td>\n",
       "      <td>2</td>\n",
       "      <td>2</td>\n",
       "      <td>1</td>\n",
       "    </tr>\n",
       "    <tr>\n",
       "      <th>2</th>\n",
       "      <td>12</td>\n",
       "      <td>13</td>\n",
       "      <td>1200013001001</td>\n",
       "      <td>20693</td>\n",
       "      <td>4.2855582731854</td>\n",
       "      <td>1</td>\n",
       "      <td>2</td>\n",
       "      <td>4</td>\n",
       "      <td>0</td>\n",
       "      <td>1</td>\n",
       "      <td>...</td>\n",
       "      <td>2</td>\n",
       "      <td>2</td>\n",
       "      <td>2</td>\n",
       "      <td>2</td>\n",
       "      <td>2</td>\n",
       "      <td>2</td>\n",
       "      <td>2</td>\n",
       "      <td>1</td>\n",
       "      <td>2</td>\n",
       "      <td>1</td>\n",
       "    </tr>\n",
       "    <tr>\n",
       "      <th>3</th>\n",
       "      <td>12</td>\n",
       "      <td>13</td>\n",
       "      <td>1200013001001</td>\n",
       "      <td>44285</td>\n",
       "      <td>4.3240115130412</td>\n",
       "      <td>1</td>\n",
       "      <td>2</td>\n",
       "      <td>4</td>\n",
       "      <td>0</td>\n",
       "      <td>1</td>\n",
       "      <td>...</td>\n",
       "      <td>2</td>\n",
       "      <td>2</td>\n",
       "      <td>2</td>\n",
       "      <td>2</td>\n",
       "      <td>2</td>\n",
       "      <td>2</td>\n",
       "      <td>2</td>\n",
       "      <td>2</td>\n",
       "      <td>1</td>\n",
       "      <td>1</td>\n",
       "    </tr>\n",
       "    <tr>\n",
       "      <th>4</th>\n",
       "      <td>12</td>\n",
       "      <td>13</td>\n",
       "      <td>1200013001001</td>\n",
       "      <td>44285</td>\n",
       "      <td>4.3240115130412</td>\n",
       "      <td>1</td>\n",
       "      <td>2</td>\n",
       "      <td>4</td>\n",
       "      <td>0</td>\n",
       "      <td>1</td>\n",
       "      <td>...</td>\n",
       "      <td>2</td>\n",
       "      <td>2</td>\n",
       "      <td>2</td>\n",
       "      <td>2</td>\n",
       "      <td>2</td>\n",
       "      <td>2</td>\n",
       "      <td>2</td>\n",
       "      <td>2</td>\n",
       "      <td>2</td>\n",
       "      <td>1</td>\n",
       "    </tr>\n",
       "    <tr>\n",
       "      <th>5</th>\n",
       "      <td>12</td>\n",
       "      <td>13</td>\n",
       "      <td>1200013001001</td>\n",
       "      <td>44285</td>\n",
       "      <td>4.3240115130412</td>\n",
       "      <td>1</td>\n",
       "      <td>2</td>\n",
       "      <td>4</td>\n",
       "      <td>0</td>\n",
       "      <td>1</td>\n",
       "      <td>...</td>\n",
       "      <td>2</td>\n",
       "      <td>2</td>\n",
       "      <td>2</td>\n",
       "      <td>2</td>\n",
       "      <td>2</td>\n",
       "      <td>2</td>\n",
       "      <td>2</td>\n",
       "      <td>2</td>\n",
       "      <td>2</td>\n",
       "      <td>1</td>\n",
       "    </tr>\n",
       "    <tr>\n",
       "      <th>6</th>\n",
       "      <td>12</td>\n",
       "      <td>13</td>\n",
       "      <td>1200013001001</td>\n",
       "      <td>44285</td>\n",
       "      <td>4.3240115130412</td>\n",
       "      <td>1</td>\n",
       "      <td>2</td>\n",
       "      <td>4</td>\n",
       "      <td>0</td>\n",
       "      <td>1</td>\n",
       "      <td>...</td>\n",
       "      <td>2</td>\n",
       "      <td>2</td>\n",
       "      <td>2</td>\n",
       "      <td>2</td>\n",
       "      <td>2</td>\n",
       "      <td>2</td>\n",
       "      <td>2</td>\n",
       "      <td>2</td>\n",
       "      <td>1</td>\n",
       "      <td>1</td>\n",
       "    </tr>\n",
       "    <tr>\n",
       "      <th>7</th>\n",
       "      <td>12</td>\n",
       "      <td>13</td>\n",
       "      <td>1200013001001</td>\n",
       "      <td>62701</td>\n",
       "      <td>4.903580211638</td>\n",
       "      <td>1</td>\n",
       "      <td>2</td>\n",
       "      <td>4</td>\n",
       "      <td>0</td>\n",
       "      <td>2</td>\n",
       "      <td>...</td>\n",
       "      <td>2</td>\n",
       "      <td>2</td>\n",
       "      <td>2</td>\n",
       "      <td>2</td>\n",
       "      <td>2</td>\n",
       "      <td>2</td>\n",
       "      <td>2</td>\n",
       "      <td>2</td>\n",
       "      <td>2</td>\n",
       "      <td>8</td>\n",
       "    </tr>\n",
       "    <tr>\n",
       "      <th>8</th>\n",
       "      <td>12</td>\n",
       "      <td>13</td>\n",
       "      <td>1200013001001</td>\n",
       "      <td>62701</td>\n",
       "      <td>4.903580211638</td>\n",
       "      <td>1</td>\n",
       "      <td>2</td>\n",
       "      <td>4</td>\n",
       "      <td>0</td>\n",
       "      <td>2</td>\n",
       "      <td>...</td>\n",
       "      <td>2</td>\n",
       "      <td>2</td>\n",
       "      <td>2</td>\n",
       "      <td>2</td>\n",
       "      <td>2</td>\n",
       "      <td>2</td>\n",
       "      <td>2</td>\n",
       "      <td>2</td>\n",
       "      <td>2</td>\n",
       "      <td>8</td>\n",
       "    </tr>\n",
       "    <tr>\n",
       "      <th>9</th>\n",
       "      <td>12</td>\n",
       "      <td>13</td>\n",
       "      <td>1200013001001</td>\n",
       "      <td>62701</td>\n",
       "      <td>4.903580211638</td>\n",
       "      <td>1</td>\n",
       "      <td>2</td>\n",
       "      <td>4</td>\n",
       "      <td>0</td>\n",
       "      <td>2</td>\n",
       "      <td>...</td>\n",
       "      <td>2</td>\n",
       "      <td>2</td>\n",
       "      <td>2</td>\n",
       "      <td>2</td>\n",
       "      <td>2</td>\n",
       "      <td>2</td>\n",
       "      <td>2</td>\n",
       "      <td>2</td>\n",
       "      <td>2</td>\n",
       "      <td>8</td>\n",
       "    </tr>\n",
       "  </tbody>\n",
       "</table>\n",
       "<p>10 rows × 244 columns</p>\n",
       "</div>"
      ],
      "text/plain": [
       "  V0001 V0002          V0011  V0300            V0010 V1001 V1002 V1003 V1004  \\\n",
       "0    12    13  1200013001001  20683  4.6799488342461     1     2     4     0   \n",
       "1    12    13  1200013001001  20693  4.2855582731854     1     2     4     0   \n",
       "2    12    13  1200013001001  20693  4.2855582731854     1     2     4     0   \n",
       "3    12    13  1200013001001  44285  4.3240115130412     1     2     4     0   \n",
       "4    12    13  1200013001001  44285  4.3240115130412     1     2     4     0   \n",
       "5    12    13  1200013001001  44285  4.3240115130412     1     2     4     0   \n",
       "6    12    13  1200013001001  44285  4.3240115130412     1     2     4     0   \n",
       "7    12    13  1200013001001  62701   4.903580211638     1     2     4     0   \n",
       "8    12    13  1200013001001  62701   4.903580211638     1     2     4     0   \n",
       "9    12    13  1200013001001  62701   4.903580211638     1     2     4     0   \n",
       "\n",
       "  V1006   ...  M6693 M0670 M0671 M6800 M6121 M0604 M0605 M6462 M6472 V1005  \n",
       "0      1  ...      2     2     2     2     2     2     2     2     2     1  \n",
       "1      1  ...      2     2     2     2     2     2     2     2     2     1  \n",
       "2      1  ...      2     2     2     2     2     2     2     1     2     1  \n",
       "3      1  ...      2     2     2     2     2     2     2     2     1     1  \n",
       "4      1  ...      2     2     2     2     2     2     2     2     2     1  \n",
       "5      1  ...      2     2     2     2     2     2     2     2     2     1  \n",
       "6      1  ...      2     2     2     2     2     2     2     2     1     1  \n",
       "7      2  ...      2     2     2     2     2     2     2     2     2     8  \n",
       "8      2  ...      2     2     2     2     2     2     2     2     2     8  \n",
       "9      2  ...      2     2     2     2     2     2     2     2     2     8  \n",
       "\n",
       "[10 rows x 244 columns]"
      ]
     },
     "execution_count": 13,
     "metadata": {},
     "output_type": "execute_result"
    }
   ],
   "source": [
    "pessoas.head(n=10) # cabeçalho, mostra as n (neste caso 10) primeiras observações\n"
   ]
  },
  {
   "cell_type": "markdown",
   "metadata": {},
   "source": [
    "O Comando **tail()** mostra as 6 ultimas linhas da base de dados. Se você definir o valor de n ele mostra a quantidade especificada."
   ]
  },
  {
   "cell_type": "code",
   "execution_count": 14,
   "metadata": {},
   "outputs": [
    {
     "data": {
      "text/html": [
       "<div>\n",
       "<style scoped>\n",
       "    .dataframe tbody tr th:only-of-type {\n",
       "        vertical-align: middle;\n",
       "    }\n",
       "\n",
       "    .dataframe tbody tr th {\n",
       "        vertical-align: top;\n",
       "    }\n",
       "\n",
       "    .dataframe thead th {\n",
       "        text-align: right;\n",
       "    }\n",
       "</style>\n",
       "<table border=\"1\" class=\"dataframe\">\n",
       "  <thead>\n",
       "    <tr style=\"text-align: right;\">\n",
       "      <th></th>\n",
       "      <th>V0001</th>\n",
       "      <th>V0002</th>\n",
       "      <th>V0011</th>\n",
       "      <th>V0300</th>\n",
       "      <th>V0010</th>\n",
       "      <th>V1001</th>\n",
       "      <th>V1002</th>\n",
       "      <th>V1003</th>\n",
       "      <th>V1004</th>\n",
       "      <th>V1006</th>\n",
       "      <th>...</th>\n",
       "      <th>M0218</th>\n",
       "      <th>M0219</th>\n",
       "      <th>M0220</th>\n",
       "      <th>M0221</th>\n",
       "      <th>M0222</th>\n",
       "      <th>M0301</th>\n",
       "      <th>M0401</th>\n",
       "      <th>M0402</th>\n",
       "      <th>M0701</th>\n",
       "      <th>V1005</th>\n",
       "    </tr>\n",
       "  </thead>\n",
       "  <tbody>\n",
       "    <tr>\n",
       "      <th>82648</th>\n",
       "      <td>11</td>\n",
       "      <td>1807</td>\n",
       "      <td>1101807001001</td>\n",
       "      <td>6089996</td>\n",
       "      <td>5.3552610522119</td>\n",
       "      <td>1</td>\n",
       "      <td>2</td>\n",
       "      <td>4</td>\n",
       "      <td>0</td>\n",
       "      <td>1</td>\n",
       "      <td>...</td>\n",
       "      <td>2</td>\n",
       "      <td>2</td>\n",
       "      <td>2</td>\n",
       "      <td>2</td>\n",
       "      <td>2</td>\n",
       "      <td>2</td>\n",
       "      <td>2</td>\n",
       "      <td>2</td>\n",
       "      <td>2</td>\n",
       "      <td>1</td>\n",
       "    </tr>\n",
       "    <tr>\n",
       "      <th>82649</th>\n",
       "      <td>11</td>\n",
       "      <td>1807</td>\n",
       "      <td>1101807001001</td>\n",
       "      <td>6104644</td>\n",
       "      <td>5.2540649940441</td>\n",
       "      <td>1</td>\n",
       "      <td>2</td>\n",
       "      <td>4</td>\n",
       "      <td>0</td>\n",
       "      <td>1</td>\n",
       "      <td>...</td>\n",
       "      <td>2</td>\n",
       "      <td>2</td>\n",
       "      <td>2</td>\n",
       "      <td>2</td>\n",
       "      <td>2</td>\n",
       "      <td>2</td>\n",
       "      <td>2</td>\n",
       "      <td>2</td>\n",
       "      <td>2</td>\n",
       "      <td>1</td>\n",
       "    </tr>\n",
       "    <tr>\n",
       "      <th>82650</th>\n",
       "      <td>11</td>\n",
       "      <td>1807</td>\n",
       "      <td>1101807001001</td>\n",
       "      <td>6109143</td>\n",
       "      <td>5.6374657401615</td>\n",
       "      <td>1</td>\n",
       "      <td>2</td>\n",
       "      <td>4</td>\n",
       "      <td>0</td>\n",
       "      <td>2</td>\n",
       "      <td>...</td>\n",
       "      <td>2</td>\n",
       "      <td>2</td>\n",
       "      <td>2</td>\n",
       "      <td>2</td>\n",
       "      <td>2</td>\n",
       "      <td>2</td>\n",
       "      <td>2</td>\n",
       "      <td>2</td>\n",
       "      <td>2</td>\n",
       "      <td>8</td>\n",
       "    </tr>\n",
       "    <tr>\n",
       "      <th>82651</th>\n",
       "      <td>11</td>\n",
       "      <td>1807</td>\n",
       "      <td>1101807001001</td>\n",
       "      <td>6166408</td>\n",
       "      <td>4.7983545097696</td>\n",
       "      <td>1</td>\n",
       "      <td>2</td>\n",
       "      <td>4</td>\n",
       "      <td>0</td>\n",
       "      <td>2</td>\n",
       "      <td>...</td>\n",
       "      <td>2</td>\n",
       "      <td>2</td>\n",
       "      <td>2</td>\n",
       "      <td>2</td>\n",
       "      <td>2</td>\n",
       "      <td>2</td>\n",
       "      <td>2</td>\n",
       "      <td>2</td>\n",
       "      <td>2</td>\n",
       "      <td>8</td>\n",
       "    </tr>\n",
       "    <tr>\n",
       "      <th>82652</th>\n",
       "      <td>11</td>\n",
       "      <td>1807</td>\n",
       "      <td>1101807001001</td>\n",
       "      <td>6172532</td>\n",
       "      <td>3.5686173771586</td>\n",
       "      <td>1</td>\n",
       "      <td>2</td>\n",
       "      <td>4</td>\n",
       "      <td>0</td>\n",
       "      <td>1</td>\n",
       "      <td>...</td>\n",
       "      <td>2</td>\n",
       "      <td>2</td>\n",
       "      <td>2</td>\n",
       "      <td>2</td>\n",
       "      <td>2</td>\n",
       "      <td>2</td>\n",
       "      <td>2</td>\n",
       "      <td>2</td>\n",
       "      <td>2</td>\n",
       "      <td>1</td>\n",
       "    </tr>\n",
       "  </tbody>\n",
       "</table>\n",
       "<p>5 rows × 76 columns</p>\n",
       "</div>"
      ],
      "text/plain": [
       "      V0001 V0002          V0011    V0300            V0010 V1001 V1002 V1003  \\\n",
       "82648    11  1807  1101807001001  6089996  5.3552610522119     1     2     4   \n",
       "82649    11  1807  1101807001001  6104644  5.2540649940441     1     2     4   \n",
       "82650    11  1807  1101807001001  6109143  5.6374657401615     1     2     4   \n",
       "82651    11  1807  1101807001001  6166408  4.7983545097696     1     2     4   \n",
       "82652    11  1807  1101807001001  6172532  3.5686173771586     1     2     4   \n",
       "\n",
       "      V1004 V1006  ...  M0218 M0219 M0220 M0221 M0222 M0301 M0401 M0402 M0701  \\\n",
       "82648     0     1  ...      2     2     2     2     2     2     2     2     2   \n",
       "82649     0     1  ...      2     2     2     2     2     2     2     2     2   \n",
       "82650     0     2  ...      2     2     2     2     2     2     2     2     2   \n",
       "82651     0     2  ...      2     2     2     2     2     2     2     2     2   \n",
       "82652     0     1  ...      2     2     2     2     2     2     2     2     2   \n",
       "\n",
       "      V1005  \n",
       "82648     1  \n",
       "82649     1  \n",
       "82650     8  \n",
       "82651     8  \n",
       "82652     1  \n",
       "\n",
       "[5 rows x 76 columns]"
      ]
     },
     "execution_count": 14,
     "metadata": {},
     "output_type": "execute_result"
    }
   ],
   "source": [
    "domicilios.tail() # cauda "
   ]
  },
  {
   "cell_type": "markdown",
   "metadata": {},
   "source": [
    "Uma das formas de imprimir um ou mais resultados é utilizando o comando **print()** . O Python entende que tem que imprimir os dois valores mesmo sem o comando print.\n",
    "\n",
    "Já o comando **shape** nos fornece a dimensão da base de dados, quantas linhas e quantas colunas."
   ]
  },
  {
   "cell_type": "code",
   "execution_count": 15,
   "metadata": {},
   "outputs": [
    {
     "name": "stdout",
     "output_type": "stream",
     "text": [
      "(289282, 244) (82653, 76)\n"
     ]
    }
   ],
   "source": [
    "print(pessoas.shape,\n",
    "domicilios.shape) # dimensão da base de dados"
   ]
  },
  {
   "cell_type": "markdown",
   "metadata": {},
   "source": [
    "Para imprimir o nome de cada uma das colunas da base de dados basta usar o comando **columns**."
   ]
  },
  {
   "cell_type": "code",
   "execution_count": 16,
   "metadata": {},
   "outputs": [
    {
     "data": {
      "text/plain": [
       "Index(['V0001', 'V0002', 'V0011', 'V0300', 'V0010', 'V1001', 'V1002', 'V1003',\n",
       "       'V1004', 'V1006', 'V4001', 'V4002', 'V0201', 'V2011', 'V2012', 'V0202',\n",
       "       'V0203', 'V6203', 'V0204', 'V6204', 'V0205', 'V0206', 'V0207', 'V0208',\n",
       "       'V0209', 'V0210', 'V0211', 'V0212', 'V0213', 'V0214', 'V0215', 'V0216',\n",
       "       'V0217', 'V0218', 'V0219', 'V0220', 'V0221', 'V0222', 'V0301', 'V0401',\n",
       "       'V0402', 'V0701', 'V6529', 'V6530', 'V6531', 'V6532', 'V6600', 'V6210',\n",
       "       'M0201', 'M2011', 'M0202', 'M0203', 'M0204', 'M0205', 'M0206', 'M0207',\n",
       "       'M0208', 'M0209', 'M0210', 'M0211', 'M0212', 'M0213', 'M0214', 'M0215',\n",
       "       'M0216', 'M0217', 'M0218', 'M0219', 'M0220', 'M0221', 'M0222', 'M0301',\n",
       "       'M0401', 'M0402', 'M0701', 'V1005'],\n",
       "      dtype='object')"
      ]
     },
     "execution_count": 16,
     "metadata": {},
     "output_type": "execute_result"
    }
   ],
   "source": [
    "domicilios.columns # nome das colunas da base de dados"
   ]
  },
  {
   "cell_type": "code",
   "execution_count": 17,
   "metadata": {},
   "outputs": [
    {
     "data": {
      "text/plain": [
       "Index(['V0001', 'V0002', 'V0011', 'V0300', 'V0010', 'V1001', 'V1002', 'V1003',\n",
       "       'V1004', 'V1006 ',\n",
       "       ...\n",
       "       'M6693', 'M0670', 'M0671', 'M6800', 'M6121', 'M0604', 'M0605', 'M6462',\n",
       "       'M6472', 'V1005'],\n",
       "      dtype='object', length=244)"
      ]
     },
     "execution_count": 17,
     "metadata": {},
     "output_type": "execute_result"
    }
   ],
   "source": [
    "pessoas.columns # nome das colunas da base de dados de pessoas"
   ]
  },
  {
   "cell_type": "markdown",
   "metadata": {},
   "source": [
    "## DESCRIÇÃO DAS VARIÁVEIS\n",
    "\n",
    "Para trabalhar com as variáveis de maneira correta, devemos converter as variáveis. Desta forma, quando formos fazer alguma operação, a variável já está pronta para uso. Para converter variáveis para inteiro , string , categorico etc utilizamos os comandos a seguir. "
   ]
  },
  {
   "cell_type": "code",
   "execution_count": 18,
   "metadata": {},
   "outputs": [
    {
     "data": {
      "text/plain": [
       "V0001     object\n",
       "V0002     object\n",
       "V0011     object\n",
       "V0300    float64\n",
       "V0010    float64\n",
       "dtype: object"
      ]
     },
     "execution_count": 18,
     "metadata": {},
     "output_type": "execute_result"
    }
   ],
   "source": [
    "# converter variaveis para númerico e  string\n",
    "domicilios[domi_names_num]= domicilios[domi_names_num].astype(float) # númerico\n",
    "domicilios[domi_names_cat]= domicilios[domi_names_cat].astype(str) # string/texto\n",
    "domicilios.dtypes.head()"
   ]
  },
  {
   "cell_type": "markdown",
   "metadata": {},
   "source": [
    "O comando **describe** apresenta a sumarização de algumas informações da base de dados ou de uma coluna especifica, o resultado varia de acordo com a classe da variável (númerica ou string).\n",
    "\n",
    "**Formato se as variáveis são numéricas:**\n",
    "\n",
    "* count - contagem de valores\n",
    "* mean e std - média e desvio padrão\n",
    "* max e min- máximo e mínimo\n",
    "* 50% - mediana (quartil 50%)\n",
    "* 25%, 75% - quartis "
   ]
  },
  {
   "cell_type": "code",
   "execution_count": 19,
   "metadata": {},
   "outputs": [
    {
     "data": {
      "text/html": [
       "<div>\n",
       "<style scoped>\n",
       "    .dataframe tbody tr th:only-of-type {\n",
       "        vertical-align: middle;\n",
       "    }\n",
       "\n",
       "    .dataframe tbody tr th {\n",
       "        vertical-align: top;\n",
       "    }\n",
       "\n",
       "    .dataframe thead th {\n",
       "        text-align: right;\n",
       "    }\n",
       "</style>\n",
       "<table border=\"1\" class=\"dataframe\">\n",
       "  <thead>\n",
       "    <tr style=\"text-align: right;\">\n",
       "      <th></th>\n",
       "      <th>V0300</th>\n",
       "      <th>V0010</th>\n",
       "      <th>V2011</th>\n",
       "      <th>V2012</th>\n",
       "      <th>V0203</th>\n",
       "      <th>V6203</th>\n",
       "      <th>V0204</th>\n",
       "      <th>V6204</th>\n",
       "      <th>V0401</th>\n",
       "      <th>V6529</th>\n",
       "      <th>V6530</th>\n",
       "      <th>V6531</th>\n",
       "      <th>V6532</th>\n",
       "    </tr>\n",
       "  </thead>\n",
       "  <tbody>\n",
       "    <tr>\n",
       "      <th>count</th>\n",
       "      <td>8.265300e+04</td>\n",
       "      <td>8.265300e+04</td>\n",
       "      <td>11227.000000</td>\n",
       "      <td>11227.000000</td>\n",
       "      <td>81421.000000</td>\n",
       "      <td>81421.000000</td>\n",
       "      <td>81421.000000</td>\n",
       "      <td>81421.000000</td>\n",
       "      <td>82653.000000</td>\n",
       "      <td>81722.000000</td>\n",
       "      <td>8.172200e+04</td>\n",
       "      <td>81722.000000</td>\n",
       "      <td>8.172200e+04</td>\n",
       "    </tr>\n",
       "    <tr>\n",
       "      <th>mean</th>\n",
       "      <td>3.096057e+06</td>\n",
       "      <td>7.628389e+11</td>\n",
       "      <td>313.649684</td>\n",
       "      <td>340.922142</td>\n",
       "      <td>4.980288</td>\n",
       "      <td>0.852771</td>\n",
       "      <td>2.021788</td>\n",
       "      <td>1.880062</td>\n",
       "      <td>3.499958</td>\n",
       "      <td>1926.199799</td>\n",
       "      <td>2.990566e+03</td>\n",
       "      <td>666.839829</td>\n",
       "      <td>1.158640e+03</td>\n",
       "    </tr>\n",
       "    <tr>\n",
       "      <th>std</th>\n",
       "      <td>1.788583e+06</td>\n",
       "      <td>2.618919e+12</td>\n",
       "      <td>438.245319</td>\n",
       "      <td>2369.824594</td>\n",
       "      <td>1.930566</td>\n",
       "      <td>0.754710</td>\n",
       "      <td>0.837374</td>\n",
       "      <td>1.086109</td>\n",
       "      <td>1.805238</td>\n",
       "      <td>4846.029413</td>\n",
       "      <td>2.662047e+04</td>\n",
       "      <td>1879.538334</td>\n",
       "      <td>1.248977e+04</td>\n",
       "    </tr>\n",
       "    <tr>\n",
       "      <th>min</th>\n",
       "      <td>2.700000e+01</td>\n",
       "      <td>1.101244e+00</td>\n",
       "      <td>1.000000</td>\n",
       "      <td>0.107840</td>\n",
       "      <td>1.000000</td>\n",
       "      <td>0.000000</td>\n",
       "      <td>1.000000</td>\n",
       "      <td>1.000000</td>\n",
       "      <td>1.000000</td>\n",
       "      <td>0.000000</td>\n",
       "      <td>0.000000e+00</td>\n",
       "      <td>0.000000</td>\n",
       "      <td>0.000000e+00</td>\n",
       "    </tr>\n",
       "    <tr>\n",
       "      <th>25%</th>\n",
       "      <td>1.545602e+06</td>\n",
       "      <td>5.197540e+00</td>\n",
       "      <td>150.000000</td>\n",
       "      <td>0.294120</td>\n",
       "      <td>4.000000</td>\n",
       "      <td>0.500000</td>\n",
       "      <td>1.000000</td>\n",
       "      <td>1.000000</td>\n",
       "      <td>2.000000</td>\n",
       "      <td>534.000000</td>\n",
       "      <td>1.166670e+00</td>\n",
       "      <td>172.000000</td>\n",
       "      <td>3.931400e-01</td>\n",
       "    </tr>\n",
       "    <tr>\n",
       "      <th>50%</th>\n",
       "      <td>3.101990e+06</td>\n",
       "      <td>8.905365e+00</td>\n",
       "      <td>250.000000</td>\n",
       "      <td>0.490200</td>\n",
       "      <td>5.000000</td>\n",
       "      <td>0.700000</td>\n",
       "      <td>2.000000</td>\n",
       "      <td>1.500000</td>\n",
       "      <td>3.000000</td>\n",
       "      <td>1060.000000</td>\n",
       "      <td>2.223530e+00</td>\n",
       "      <td>375.000000</td>\n",
       "      <td>8.104600e-01</td>\n",
       "    </tr>\n",
       "    <tr>\n",
       "      <th>75%</th>\n",
       "      <td>4.644852e+06</td>\n",
       "      <td>1.151872e+01</td>\n",
       "      <td>350.000000</td>\n",
       "      <td>0.745100</td>\n",
       "      <td>6.000000</td>\n",
       "      <td>1.000000</td>\n",
       "      <td>3.000000</td>\n",
       "      <td>2.000000</td>\n",
       "      <td>4.000000</td>\n",
       "      <td>2040.000000</td>\n",
       "      <td>4.537250e+00</td>\n",
       "      <td>687.500000</td>\n",
       "      <td>1.673200e+00</td>\n",
       "    </tr>\n",
       "    <tr>\n",
       "      <th>max</th>\n",
       "      <td>6.192177e+06</td>\n",
       "      <td>3.200000e+13</td>\n",
       "      <td>36000.000000</td>\n",
       "      <td>100196.000000</td>\n",
       "      <td>25.000000</td>\n",
       "      <td>15.000000</td>\n",
       "      <td>8.000000</td>\n",
       "      <td>22.000000</td>\n",
       "      <td>25.000000</td>\n",
       "      <td>595000.000000</td>\n",
       "      <td>2.983922e+06</td>\n",
       "      <td>200000.000000</td>\n",
       "      <td>1.967843e+06</td>\n",
       "    </tr>\n",
       "  </tbody>\n",
       "</table>\n",
       "</div>"
      ],
      "text/plain": [
       "              V0300         V0010         V2011          V2012         V0203  \\\n",
       "count  8.265300e+04  8.265300e+04  11227.000000   11227.000000  81421.000000   \n",
       "mean   3.096057e+06  7.628389e+11    313.649684     340.922142      4.980288   \n",
       "std    1.788583e+06  2.618919e+12    438.245319    2369.824594      1.930566   \n",
       "min    2.700000e+01  1.101244e+00      1.000000       0.107840      1.000000   \n",
       "25%    1.545602e+06  5.197540e+00    150.000000       0.294120      4.000000   \n",
       "50%    3.101990e+06  8.905365e+00    250.000000       0.490200      5.000000   \n",
       "75%    4.644852e+06  1.151872e+01    350.000000       0.745100      6.000000   \n",
       "max    6.192177e+06  3.200000e+13  36000.000000  100196.000000     25.000000   \n",
       "\n",
       "              V6203         V0204         V6204         V0401          V6529  \\\n",
       "count  81421.000000  81421.000000  81421.000000  82653.000000   81722.000000   \n",
       "mean       0.852771      2.021788      1.880062      3.499958    1926.199799   \n",
       "std        0.754710      0.837374      1.086109      1.805238    4846.029413   \n",
       "min        0.000000      1.000000      1.000000      1.000000       0.000000   \n",
       "25%        0.500000      1.000000      1.000000      2.000000     534.000000   \n",
       "50%        0.700000      2.000000      1.500000      3.000000    1060.000000   \n",
       "75%        1.000000      3.000000      2.000000      4.000000    2040.000000   \n",
       "max       15.000000      8.000000     22.000000     25.000000  595000.000000   \n",
       "\n",
       "              V6530          V6531         V6532  \n",
       "count  8.172200e+04   81722.000000  8.172200e+04  \n",
       "mean   2.990566e+03     666.839829  1.158640e+03  \n",
       "std    2.662047e+04    1879.538334  1.248977e+04  \n",
       "min    0.000000e+00       0.000000  0.000000e+00  \n",
       "25%    1.166670e+00     172.000000  3.931400e-01  \n",
       "50%    2.223530e+00     375.000000  8.104600e-01  \n",
       "75%    4.537250e+00     687.500000  1.673200e+00  \n",
       "max    2.983922e+06  200000.000000  1.967843e+06  "
      ]
     },
     "execution_count": 19,
     "metadata": {},
     "output_type": "execute_result"
    }
   ],
   "source": [
    "domicilios[domi_names_num].describe() # algumas informações sumarizadas sobre as colunas "
   ]
  },
  {
   "cell_type": "markdown",
   "metadata": {},
   "source": [
    "**Para variáveis categóricas e numéricas misturadas este será o modelo padrão do describe:**\n",
    "\n",
    "* count - contagem de valores\n",
    "* unique - numero de valores únicos\n",
    "* Top = valor mais frequente\n",
    "* Freq = frequencia do valor mais frequente"
   ]
  },
  {
   "cell_type": "code",
   "execution_count": 20,
   "metadata": {},
   "outputs": [
    {
     "data": {
      "text/html": [
       "<div>\n",
       "<style scoped>\n",
       "    .dataframe tbody tr th:only-of-type {\n",
       "        vertical-align: middle;\n",
       "    }\n",
       "\n",
       "    .dataframe tbody tr th {\n",
       "        vertical-align: top;\n",
       "    }\n",
       "\n",
       "    .dataframe thead th {\n",
       "        text-align: right;\n",
       "    }\n",
       "</style>\n",
       "<table border=\"1\" class=\"dataframe\">\n",
       "  <thead>\n",
       "    <tr style=\"text-align: right;\">\n",
       "      <th></th>\n",
       "      <th>V0001</th>\n",
       "      <th>V0002</th>\n",
       "      <th>V0011</th>\n",
       "      <th>V1001</th>\n",
       "      <th>V1002</th>\n",
       "      <th>V1003</th>\n",
       "      <th>V1004</th>\n",
       "      <th>V1006</th>\n",
       "      <th>V4001</th>\n",
       "      <th>V4002</th>\n",
       "      <th>...</th>\n",
       "      <th>M0218</th>\n",
       "      <th>M0219</th>\n",
       "      <th>M0220</th>\n",
       "      <th>M0221</th>\n",
       "      <th>M0222</th>\n",
       "      <th>M0301</th>\n",
       "      <th>M0401</th>\n",
       "      <th>M0402</th>\n",
       "      <th>M0701</th>\n",
       "      <th>V1005</th>\n",
       "    </tr>\n",
       "  </thead>\n",
       "  <tbody>\n",
       "    <tr>\n",
       "      <th>count</th>\n",
       "      <td>82653</td>\n",
       "      <td>82653</td>\n",
       "      <td>82653</td>\n",
       "      <td>82653</td>\n",
       "      <td>82653</td>\n",
       "      <td>82653</td>\n",
       "      <td>82653</td>\n",
       "      <td>82653</td>\n",
       "      <td>82653</td>\n",
       "      <td>82653</td>\n",
       "      <td>...</td>\n",
       "      <td>82653</td>\n",
       "      <td>82653</td>\n",
       "      <td>82653</td>\n",
       "      <td>82653</td>\n",
       "      <td>82653</td>\n",
       "      <td>82653</td>\n",
       "      <td>82653</td>\n",
       "      <td>82653</td>\n",
       "      <td>82653</td>\n",
       "      <td>82653</td>\n",
       "    </tr>\n",
       "    <tr>\n",
       "      <th>unique</th>\n",
       "      <td>2</td>\n",
       "      <td>74</td>\n",
       "      <td>124</td>\n",
       "      <td>1</td>\n",
       "      <td>2</td>\n",
       "      <td>8</td>\n",
       "      <td>1</td>\n",
       "      <td>2</td>\n",
       "      <td>3</td>\n",
       "      <td>13</td>\n",
       "      <td>...</td>\n",
       "      <td>2</td>\n",
       "      <td>2</td>\n",
       "      <td>1</td>\n",
       "      <td>2</td>\n",
       "      <td>2</td>\n",
       "      <td>1</td>\n",
       "      <td>1</td>\n",
       "      <td>2</td>\n",
       "      <td>2</td>\n",
       "      <td>7</td>\n",
       "    </tr>\n",
       "    <tr>\n",
       "      <th>top</th>\n",
       "      <td>11</td>\n",
       "      <td>205</td>\n",
       "      <td>1200401005003</td>\n",
       "      <td>1</td>\n",
       "      <td>2</td>\n",
       "      <td>4</td>\n",
       "      <td>0</td>\n",
       "      <td>1</td>\n",
       "      <td>1</td>\n",
       "      <td>11</td>\n",
       "      <td>...</td>\n",
       "      <td>2</td>\n",
       "      <td>2</td>\n",
       "      <td>2</td>\n",
       "      <td>2</td>\n",
       "      <td>2</td>\n",
       "      <td>2</td>\n",
       "      <td>2</td>\n",
       "      <td>2</td>\n",
       "      <td>2</td>\n",
       "      <td>1</td>\n",
       "    </tr>\n",
       "    <tr>\n",
       "      <th>freq</th>\n",
       "      <td>58314</td>\n",
       "      <td>11487</td>\n",
       "      <td>1562</td>\n",
       "      <td>82653</td>\n",
       "      <td>57681</td>\n",
       "      <td>25188</td>\n",
       "      <td>82653</td>\n",
       "      <td>56385</td>\n",
       "      <td>81421</td>\n",
       "      <td>77069</td>\n",
       "      <td>...</td>\n",
       "      <td>82650</td>\n",
       "      <td>82651</td>\n",
       "      <td>82653</td>\n",
       "      <td>82651</td>\n",
       "      <td>82651</td>\n",
       "      <td>82653</td>\n",
       "      <td>82653</td>\n",
       "      <td>73329</td>\n",
       "      <td>82651</td>\n",
       "      <td>55129</td>\n",
       "    </tr>\n",
       "  </tbody>\n",
       "</table>\n",
       "<p>4 rows × 63 columns</p>\n",
       "</div>"
      ],
      "text/plain": [
       "        V0001  V0002          V0011  V1001  V1002  V1003  V1004  V1006  V4001  \\\n",
       "count   82653  82653          82653  82653  82653  82653  82653  82653  82653   \n",
       "unique      2     74            124      1      2      8      1      2      3   \n",
       "top        11    205  1200401005003      1      2      4      0      1      1   \n",
       "freq    58314  11487           1562  82653  57681  25188  82653  56385  81421   \n",
       "\n",
       "        V4002  ...    M0218  M0219  M0220  M0221  M0222  M0301  M0401  M0402  \\\n",
       "count   82653  ...    82653  82653  82653  82653  82653  82653  82653  82653   \n",
       "unique     13  ...        2      2      1      2      2      1      1      2   \n",
       "top        11  ...        2      2      2      2      2      2      2      2   \n",
       "freq    77069  ...    82650  82651  82653  82651  82651  82653  82653  73329   \n",
       "\n",
       "        M0701  V1005  \n",
       "count   82653  82653  \n",
       "unique      2      7  \n",
       "top         2      1  \n",
       "freq    82651  55129  \n",
       "\n",
       "[4 rows x 63 columns]"
      ]
     },
     "execution_count": 20,
     "metadata": {},
     "output_type": "execute_result"
    }
   ],
   "source": [
    "domicilios[domi_names_cat].describe() # sumarização de informação das colunas"
   ]
  },
  {
   "cell_type": "markdown",
   "metadata": {},
   "source": [
    "O Comando **unique()** mostra os valores únicos de uma variável."
   ]
  },
  {
   "cell_type": "code",
   "execution_count": 21,
   "metadata": {},
   "outputs": [
    {
     "data": {
      "text/plain": [
       "array(['11', '51', '52', '14', '13', '62', '65', '53', '12', '63', '61',\n",
       "       '64', '15'], dtype=object)"
      ]
     },
     "execution_count": 21,
     "metadata": {},
     "output_type": "execute_result"
    }
   ],
   "source": [
    "domicilios[\"V4002\"].unique() # valores unicos de uma coluna (coluna V4002)\n"
   ]
  },
  {
   "cell_type": "markdown",
   "metadata": {},
   "source": [
    "Essa sequência de comandos contar e apresentar quantos missing/NA na coluna ( dados ausentes).\n",
    "\n",
    "Podemos contar os dados ausentes na linha utilizar o comando **domicilios.isnull().sum(axis = 1)**  "
   ]
  },
  {
   "cell_type": "code",
   "execution_count": 22,
   "metadata": {
    "scrolled": true
   },
   "outputs": [
    {
     "data": {
      "text/plain": [
       "V2012    71426\n",
       "V2011    71426\n",
       "V6204     1232\n",
       "V0204     1232\n",
       "V6203     1232\n",
       "V0203     1232\n",
       "V6532      931\n",
       "V6531      931\n",
       "V6530      931\n",
       "V6529      931\n",
       "V0401        0\n",
       "V0010        0\n",
       "V0300        0\n",
       "dtype: int64"
      ]
     },
     "execution_count": 22,
     "metadata": {},
     "output_type": "execute_result"
    }
   ],
   "source": [
    "#(Selecionamos apenas as variáveis númericas para a lista ficar menor)\n",
    "domicilios[domi_names_num].isnull().sum().sort_values(ascending=False)  \n",
    "#se quiser pode trocar o num por cat e verificar que não existem dados faltando nas variáveis categóricas"
   ]
  },
  {
   "cell_type": "markdown",
   "metadata": {},
   "source": [
    "#### HELP - Como consultar documentação de uma função ou o Help"
   ]
  },
  {
   "cell_type": "markdown",
   "metadata": {},
   "source": [
    "Existe mais de um modo de consultar o help. A primeira opção é utilizando o comando **help(nome da função)** e a segunda é **nome da função?** . "
   ]
  },
  {
   "cell_type": "code",
   "execution_count": 23,
   "metadata": {},
   "outputs": [
    {
     "name": "stdout",
     "output_type": "stream",
     "text": [
      "Help on built-in function print in module builtins:\n",
      "\n",
      "print(...)\n",
      "    print(value, ..., sep=' ', end='\\n', file=sys.stdout, flush=False)\n",
      "    \n",
      "    Prints the values to a stream, or to sys.stdout by default.\n",
      "    Optional keyword arguments:\n",
      "    file:  a file-like object (stream); defaults to the current sys.stdout.\n",
      "    sep:   string inserted between values, default a space.\n",
      "    end:   string appended after the last value, default a newline.\n",
      "    flush: whether to forcibly flush the stream.\n",
      "\n"
     ]
    }
   ],
   "source": [
    "help('print') # opção 1 (Mostra abaixo da célula)\n",
    "# help(pd.DataFrame.describe)"
   ]
  },
  {
   "cell_type": "code",
   "execution_count": 24,
   "metadata": {},
   "outputs": [],
   "source": [
    "# opção 2 (Abre janela)\n",
    "pd.DataFrame.describe?"
   ]
  },
  {
   "cell_type": "markdown",
   "metadata": {},
   "source": [
    "#### Formar um dataframe de acordo com as colunas de interesse"
   ]
  },
  {
   "cell_type": "markdown",
   "metadata": {},
   "source": [
    "A base de dados de domicílios e de pessoas contém muitas colunas, totalizando mais de 100. Para que a gente não se confunda com o uso dos dados e para que o processo fique mais rápido vamos mostrar como montar uma base de dados menor a partir de uma outra e a tratar esses dados. \n",
    "\n",
    "Pensei em algumas variáveis para esses exemplos. A lista de variáveis são : \n",
    "\n",
    "* V0001 - UF - Estado\n",
    "* V1006 - SITUAÇÃO DO DOMICÍLIO\n",
    "* V4001 - ESPÉCIE DE UNIDADE VISITADA\n",
    "* V0201 - DOMICÍLIO, CONDIÇÃO DE OCUPAÇÃO\n",
    "* V0010 - Peso Amostral\n",
    "* V6529 - RENDIMENTO MENSAL DOMICILIAR EM JULHO DE 2010 \n",
    "* V2011 - VALOR DO ALUGUEL (EM REAIS)      \n",
    "* V0401 - QUANTAS PESSOAS MORAVAM NESTE DOMICÍLIO EM 31 DE JULHO DE 2010\n",
    "* V0300 - CONTROLE\n",
    "\n",
    "Para mais informações sobre as variáveis consultar o dicionário disponibilizados pelo IBGE.\n",
    "\n"
   ]
  },
  {
   "cell_type": "code",
   "execution_count": 25,
   "metadata": {},
   "outputs": [
    {
     "data": {
      "text/html": [
       "<div>\n",
       "<style scoped>\n",
       "    .dataframe tbody tr th:only-of-type {\n",
       "        vertical-align: middle;\n",
       "    }\n",
       "\n",
       "    .dataframe tbody tr th {\n",
       "        vertical-align: top;\n",
       "    }\n",
       "\n",
       "    .dataframe thead th {\n",
       "        text-align: right;\n",
       "    }\n",
       "</style>\n",
       "<table border=\"1\" class=\"dataframe\">\n",
       "  <thead>\n",
       "    <tr style=\"text-align: right;\">\n",
       "      <th></th>\n",
       "      <th>V0001</th>\n",
       "      <th>V1006</th>\n",
       "      <th>V4001</th>\n",
       "      <th>V0201</th>\n",
       "      <th>V0010</th>\n",
       "      <th>V6529</th>\n",
       "      <th>V2011</th>\n",
       "      <th>V0401</th>\n",
       "      <th>V0300</th>\n",
       "    </tr>\n",
       "  </thead>\n",
       "  <tbody>\n",
       "    <tr>\n",
       "      <th>0</th>\n",
       "      <td>12</td>\n",
       "      <td>1</td>\n",
       "      <td>1</td>\n",
       "      <td>5</td>\n",
       "      <td>4.679949</td>\n",
       "      <td>0.0</td>\n",
       "      <td>NaN</td>\n",
       "      <td>1.0</td>\n",
       "      <td>20683.0</td>\n",
       "    </tr>\n",
       "    <tr>\n",
       "      <th>1</th>\n",
       "      <td>12</td>\n",
       "      <td>1</td>\n",
       "      <td>1</td>\n",
       "      <td>1</td>\n",
       "      <td>4.285558</td>\n",
       "      <td>1310.0</td>\n",
       "      <td>NaN</td>\n",
       "      <td>2.0</td>\n",
       "      <td>20693.0</td>\n",
       "    </tr>\n",
       "    <tr>\n",
       "      <th>2</th>\n",
       "      <td>12</td>\n",
       "      <td>1</td>\n",
       "      <td>1</td>\n",
       "      <td>1</td>\n",
       "      <td>4.324012</td>\n",
       "      <td>2000.0</td>\n",
       "      <td>NaN</td>\n",
       "      <td>4.0</td>\n",
       "      <td>44285.0</td>\n",
       "    </tr>\n",
       "    <tr>\n",
       "      <th>3</th>\n",
       "      <td>12</td>\n",
       "      <td>2</td>\n",
       "      <td>1</td>\n",
       "      <td>1</td>\n",
       "      <td>4.903580</td>\n",
       "      <td>50.0</td>\n",
       "      <td>NaN</td>\n",
       "      <td>4.0</td>\n",
       "      <td>62701.0</td>\n",
       "    </tr>\n",
       "    <tr>\n",
       "      <th>4</th>\n",
       "      <td>12</td>\n",
       "      <td>2</td>\n",
       "      <td>1</td>\n",
       "      <td>1</td>\n",
       "      <td>5.732516</td>\n",
       "      <td>4600.0</td>\n",
       "      <td>NaN</td>\n",
       "      <td>5.0</td>\n",
       "      <td>66206.0</td>\n",
       "    </tr>\n",
       "  </tbody>\n",
       "</table>\n",
       "</div>"
      ],
      "text/plain": [
       "  V0001 V1006 V4001 V0201     V0010   V6529  V2011  V0401    V0300\n",
       "0    12     1     1     5  4.679949     0.0    NaN    1.0  20683.0\n",
       "1    12     1     1     1  4.285558  1310.0    NaN    2.0  20693.0\n",
       "2    12     1     1     1  4.324012  2000.0    NaN    4.0  44285.0\n",
       "3    12     2     1     1  4.903580    50.0    NaN    4.0  62701.0\n",
       "4    12     2     1     1  5.732516  4600.0    NaN    5.0  66206.0"
      ]
     },
     "execution_count": 25,
     "metadata": {},
     "output_type": "execute_result"
    }
   ],
   "source": [
    "# Selecionar uma parte da base de dados de domicilios\n",
    "domicilio_dom = domicilios[['V0001','V1006', 'V4001','V0201','V0010','V6529','V2011','V0401','V0300']]\n",
    "domicilio_dom.head()"
   ]
  },
  {
   "cell_type": "markdown",
   "metadata": {},
   "source": [
    "### Tratamento dos Dados\n",
    "\n",
    "Primeiramente vamos renomear a base de dados pois, as colunas com os códigos não são nada intuitivas."
   ]
  },
  {
   "cell_type": "code",
   "execution_count": 26,
   "metadata": {},
   "outputs": [
    {
     "data": {
      "text/html": [
       "<div>\n",
       "<style scoped>\n",
       "    .dataframe tbody tr th:only-of-type {\n",
       "        vertical-align: middle;\n",
       "    }\n",
       "\n",
       "    .dataframe tbody tr th {\n",
       "        vertical-align: top;\n",
       "    }\n",
       "\n",
       "    .dataframe thead th {\n",
       "        text-align: right;\n",
       "    }\n",
       "</style>\n",
       "<table border=\"1\" class=\"dataframe\">\n",
       "  <thead>\n",
       "    <tr style=\"text-align: right;\">\n",
       "      <th></th>\n",
       "      <th>UF</th>\n",
       "      <th>SITUAÇÃO DO DOMICÍLIO</th>\n",
       "      <th>ESPÉCIE DE UNIDADE VISITADA</th>\n",
       "      <th>DOMICÍLIO, CONDIÇÃO DE OCUPAÇÃO</th>\n",
       "      <th>PESO</th>\n",
       "      <th>RENDIMENTO MENSAL DOMICILIAR</th>\n",
       "      <th>VALOR DO ALUGUEL</th>\n",
       "      <th>MORADORES</th>\n",
       "      <th>CONTROLE</th>\n",
       "    </tr>\n",
       "  </thead>\n",
       "  <tbody>\n",
       "    <tr>\n",
       "      <th>0</th>\n",
       "      <td>12</td>\n",
       "      <td>1</td>\n",
       "      <td>1</td>\n",
       "      <td>5</td>\n",
       "      <td>4.679949</td>\n",
       "      <td>0.0</td>\n",
       "      <td>NaN</td>\n",
       "      <td>1.0</td>\n",
       "      <td>20683.0</td>\n",
       "    </tr>\n",
       "    <tr>\n",
       "      <th>1</th>\n",
       "      <td>12</td>\n",
       "      <td>1</td>\n",
       "      <td>1</td>\n",
       "      <td>1</td>\n",
       "      <td>4.285558</td>\n",
       "      <td>1310.0</td>\n",
       "      <td>NaN</td>\n",
       "      <td>2.0</td>\n",
       "      <td>20693.0</td>\n",
       "    </tr>\n",
       "    <tr>\n",
       "      <th>2</th>\n",
       "      <td>12</td>\n",
       "      <td>1</td>\n",
       "      <td>1</td>\n",
       "      <td>1</td>\n",
       "      <td>4.324012</td>\n",
       "      <td>2000.0</td>\n",
       "      <td>NaN</td>\n",
       "      <td>4.0</td>\n",
       "      <td>44285.0</td>\n",
       "    </tr>\n",
       "    <tr>\n",
       "      <th>3</th>\n",
       "      <td>12</td>\n",
       "      <td>2</td>\n",
       "      <td>1</td>\n",
       "      <td>1</td>\n",
       "      <td>4.903580</td>\n",
       "      <td>50.0</td>\n",
       "      <td>NaN</td>\n",
       "      <td>4.0</td>\n",
       "      <td>62701.0</td>\n",
       "    </tr>\n",
       "    <tr>\n",
       "      <th>4</th>\n",
       "      <td>12</td>\n",
       "      <td>2</td>\n",
       "      <td>1</td>\n",
       "      <td>1</td>\n",
       "      <td>5.732516</td>\n",
       "      <td>4600.0</td>\n",
       "      <td>NaN</td>\n",
       "      <td>5.0</td>\n",
       "      <td>66206.0</td>\n",
       "    </tr>\n",
       "  </tbody>\n",
       "</table>\n",
       "</div>"
      ],
      "text/plain": [
       "   UF SITUAÇÃO DO DOMICÍLIO ESPÉCIE DE UNIDADE VISITADA  \\\n",
       "0  12                     1                           1   \n",
       "1  12                     1                           1   \n",
       "2  12                     1                           1   \n",
       "3  12                     2                           1   \n",
       "4  12                     2                           1   \n",
       "\n",
       "  DOMICÍLIO, CONDIÇÃO DE OCUPAÇÃO      PESO  RENDIMENTO MENSAL DOMICILIAR  \\\n",
       "0                               5  4.679949                           0.0   \n",
       "1                               1  4.285558                        1310.0   \n",
       "2                               1  4.324012                        2000.0   \n",
       "3                               1  4.903580                          50.0   \n",
       "4                               1  5.732516                        4600.0   \n",
       "\n",
       "   VALOR DO ALUGUEL  MORADORES  CONTROLE  \n",
       "0               NaN        1.0   20683.0  \n",
       "1               NaN        2.0   20693.0  \n",
       "2               NaN        4.0   44285.0  \n",
       "3               NaN        4.0   62701.0  \n",
       "4               NaN        5.0   66206.0  "
      ]
     },
     "execution_count": 26,
     "metadata": {},
     "output_type": "execute_result"
    }
   ],
   "source": [
    "#Renomear colunas (rename)\n",
    "domicilio_dom = domicilio_dom.rename(columns={\"V0001\":'UF','V1006':'SITUAÇÃO DO DOMICÍLIO',\n",
    "                             'V4001':'ESPÉCIE DE UNIDADE VISITADA',\n",
    "                            'V0201': 'DOMICÍLIO, CONDIÇÃO DE OCUPAÇÃO',\n",
    "                            'V0010':'PESO',\n",
    "                             'V6529' : 'RENDIMENTO MENSAL DOMICILIAR',\n",
    "                             'V2011' : 'VALOR DO ALUGUEL',\n",
    "                              'V0401':'MORADORES',\n",
    "                              'V0300':'CONTROLE'})\n",
    "domicilio_dom.head()"
   ]
  },
  {
   "cell_type": "markdown",
   "metadata": {},
   "source": [
    "Os microdados são organizados em códigos, se olharmos o dicionário disponibilizado pelo IBGE, vamos observar que cada código tem um nome (nome da classe). Para deixar a base de dados mais clara e simples, podemos dar nomes a esses códigos. Os comandos estão a seguir."
   ]
  },
  {
   "cell_type": "code",
   "execution_count": 27,
   "metadata": {},
   "outputs": [
    {
     "data": {
      "text/html": [
       "<div>\n",
       "<style scoped>\n",
       "    .dataframe tbody tr th:only-of-type {\n",
       "        vertical-align: middle;\n",
       "    }\n",
       "\n",
       "    .dataframe tbody tr th {\n",
       "        vertical-align: top;\n",
       "    }\n",
       "\n",
       "    .dataframe thead th {\n",
       "        text-align: right;\n",
       "    }\n",
       "</style>\n",
       "<table border=\"1\" class=\"dataframe\">\n",
       "  <thead>\n",
       "    <tr style=\"text-align: right;\">\n",
       "      <th></th>\n",
       "      <th>UF</th>\n",
       "      <th>SITUAÇÃO DO DOMICÍLIO</th>\n",
       "      <th>ESPÉCIE DE UNIDADE VISITADA</th>\n",
       "      <th>DOMICÍLIO, CONDIÇÃO DE OCUPAÇÃO</th>\n",
       "      <th>PESO</th>\n",
       "      <th>RENDIMENTO MENSAL DOMICILIAR</th>\n",
       "      <th>VALOR DO ALUGUEL</th>\n",
       "      <th>MORADORES</th>\n",
       "      <th>CONTROLE</th>\n",
       "    </tr>\n",
       "  </thead>\n",
       "  <tbody>\n",
       "    <tr>\n",
       "      <th>0</th>\n",
       "      <td>AC</td>\n",
       "      <td>URBANA</td>\n",
       "      <td>1</td>\n",
       "      <td>Cedido de outra forma</td>\n",
       "      <td>4.679949</td>\n",
       "      <td>0.0</td>\n",
       "      <td>NaN</td>\n",
       "      <td>1.0</td>\n",
       "      <td>20683.0</td>\n",
       "    </tr>\n",
       "    <tr>\n",
       "      <th>1</th>\n",
       "      <td>AC</td>\n",
       "      <td>URBANA</td>\n",
       "      <td>1</td>\n",
       "      <td>Próprio de algum morador - já pago</td>\n",
       "      <td>4.285558</td>\n",
       "      <td>1310.0</td>\n",
       "      <td>NaN</td>\n",
       "      <td>2.0</td>\n",
       "      <td>20693.0</td>\n",
       "    </tr>\n",
       "    <tr>\n",
       "      <th>2</th>\n",
       "      <td>AC</td>\n",
       "      <td>URBANA</td>\n",
       "      <td>1</td>\n",
       "      <td>Próprio de algum morador - já pago</td>\n",
       "      <td>4.324012</td>\n",
       "      <td>2000.0</td>\n",
       "      <td>NaN</td>\n",
       "      <td>4.0</td>\n",
       "      <td>44285.0</td>\n",
       "    </tr>\n",
       "    <tr>\n",
       "      <th>3</th>\n",
       "      <td>AC</td>\n",
       "      <td>RURAL</td>\n",
       "      <td>1</td>\n",
       "      <td>Próprio de algum morador - já pago</td>\n",
       "      <td>4.903580</td>\n",
       "      <td>50.0</td>\n",
       "      <td>NaN</td>\n",
       "      <td>4.0</td>\n",
       "      <td>62701.0</td>\n",
       "    </tr>\n",
       "    <tr>\n",
       "      <th>4</th>\n",
       "      <td>AC</td>\n",
       "      <td>RURAL</td>\n",
       "      <td>1</td>\n",
       "      <td>Próprio de algum morador - já pago</td>\n",
       "      <td>5.732516</td>\n",
       "      <td>4600.0</td>\n",
       "      <td>NaN</td>\n",
       "      <td>5.0</td>\n",
       "      <td>66206.0</td>\n",
       "    </tr>\n",
       "  </tbody>\n",
       "</table>\n",
       "</div>"
      ],
      "text/plain": [
       "   UF SITUAÇÃO DO DOMICÍLIO ESPÉCIE DE UNIDADE VISITADA  \\\n",
       "0  AC                URBANA                           1   \n",
       "1  AC                URBANA                           1   \n",
       "2  AC                URBANA                           1   \n",
       "3  AC                 RURAL                           1   \n",
       "4  AC                 RURAL                           1   \n",
       "\n",
       "      DOMICÍLIO, CONDIÇÃO DE OCUPAÇÃO      PESO  RENDIMENTO MENSAL DOMICILIAR  \\\n",
       "0               Cedido de outra forma  4.679949                           0.0   \n",
       "1  Próprio de algum morador - já pago  4.285558                        1310.0   \n",
       "2  Próprio de algum morador - já pago  4.324012                        2000.0   \n",
       "3  Próprio de algum morador - já pago  4.903580                          50.0   \n",
       "4  Próprio de algum morador - já pago  5.732516                        4600.0   \n",
       "\n",
       "   VALOR DO ALUGUEL  MORADORES  CONTROLE  \n",
       "0               NaN        1.0   20683.0  \n",
       "1               NaN        2.0   20693.0  \n",
       "2               NaN        4.0   44285.0  \n",
       "3               NaN        4.0   62701.0  \n",
       "4               NaN        5.0   66206.0  "
      ]
     },
     "execution_count": 27,
     "metadata": {},
     "output_type": "execute_result"
    }
   ],
   "source": [
    "# Dar nomes as categorias de cada coluna\n",
    "nomes = {'UF': {'13': 'AM', '12': 'AC',  '11': 'RO'},\n",
    "        'SITUAÇÃO DO DOMICÍLIO': {'1' : 'URBANA', '2':'RURAL'},\n",
    "        'ESPÉCIE DE UNIDADE VISITADA' : {'01': 'Domicílio particular permanente ocupado', \n",
    "                                        '02':'Domicílio particular permanente ocupado sem entrevista realizada',\n",
    "                                        '05':' Domicílio particular improvisado ocupado',\n",
    "                                        '06':'Domicílio coletivo com morador'},\n",
    "         'DOMICÍLIO, CONDIÇÃO DE OCUPAÇÃO' : {'1':'Próprio de algum morador - já pago',\n",
    "                                             '2':'Próprio de algum morador - ainda pagando',\n",
    "                                             '3':'Alugado',\n",
    "                                             '4':'Cedido por empregador',\n",
    "                                             '5':'Cedido de outra forma',\n",
    "                                             '6':'Outra condição'}}\n",
    "domicilio_dom.replace(nomes, inplace=True)\n",
    "domicilio_dom.head()"
   ]
  },
  {
   "cell_type": "markdown",
   "metadata": {},
   "source": [
    "# Tabelas"
   ]
  },
  {
   "cell_type": "markdown",
   "metadata": {},
   "source": [
    "## Tabelas simples"
   ]
  },
  {
   "cell_type": "code",
   "execution_count": 28,
   "metadata": {},
   "outputs": [
    {
     "data": {
      "text/plain": [
       "RO    58314\n",
       "AC    24339\n",
       "Name: UF, dtype: int64"
      ]
     },
     "execution_count": 28,
     "metadata": {},
     "output_type": "execute_result"
    }
   ],
   "source": [
    "# Tabela simples\n",
    "domicilio_dom['UF'].value_counts()"
   ]
  },
  {
   "cell_type": "code",
   "execution_count": 31,
   "metadata": {},
   "outputs": [
    {
     "data": {
      "text/plain": [
       "AC    29.447207\n",
       "RO    70.552793\n",
       "Name: UF, dtype: float64"
      ]
     },
     "execution_count": 31,
     "metadata": {},
     "output_type": "execute_result"
    }
   ],
   "source": [
    "#Tabela - porcentagens \n",
    "domicilio_dom['UF'].value_counts(normalize=True).sort_index()*100"
   ]
  },
  {
   "cell_type": "code",
   "execution_count": 32,
   "metadata": {},
   "outputs": [
    {
     "data": {
      "text/plain": [
       "RO    70.552793\n",
       "AC    29.447207\n",
       "Name: UF, dtype: float64"
      ]
     },
     "execution_count": 32,
     "metadata": {},
     "output_type": "execute_result"
    }
   ],
   "source": [
    "# Tabela simples com porcentagem de outra forma (dividindo pelo total)\n",
    "\n",
    "domicilio_dom['UF'].value_counts()/len(domicilio_dom)*100"
   ]
  },
  {
   "cell_type": "markdown",
   "metadata": {},
   "source": [
    "## Tabela cruzada "
   ]
  },
  {
   "cell_type": "code",
   "execution_count": 33,
   "metadata": {},
   "outputs": [
    {
     "data": {
      "text/html": [
       "<div>\n",
       "<style scoped>\n",
       "    .dataframe tbody tr th:only-of-type {\n",
       "        vertical-align: middle;\n",
       "    }\n",
       "\n",
       "    .dataframe tbody tr th {\n",
       "        vertical-align: top;\n",
       "    }\n",
       "\n",
       "    .dataframe thead th {\n",
       "        text-align: right;\n",
       "    }\n",
       "</style>\n",
       "<table border=\"1\" class=\"dataframe\">\n",
       "  <thead>\n",
       "    <tr style=\"text-align: right;\">\n",
       "      <th>SITUAÇÃO DO DOMICÍLIO</th>\n",
       "      <th>RURAL</th>\n",
       "      <th>URBANA</th>\n",
       "      <th>All</th>\n",
       "    </tr>\n",
       "    <tr>\n",
       "      <th>UF</th>\n",
       "      <th></th>\n",
       "      <th></th>\n",
       "      <th></th>\n",
       "    </tr>\n",
       "  </thead>\n",
       "  <tbody>\n",
       "    <tr>\n",
       "      <th>AC</th>\n",
       "      <td>7279</td>\n",
       "      <td>17060</td>\n",
       "      <td>24339</td>\n",
       "    </tr>\n",
       "    <tr>\n",
       "      <th>RO</th>\n",
       "      <td>18989</td>\n",
       "      <td>39325</td>\n",
       "      <td>58314</td>\n",
       "    </tr>\n",
       "    <tr>\n",
       "      <th>All</th>\n",
       "      <td>26268</td>\n",
       "      <td>56385</td>\n",
       "      <td>82653</td>\n",
       "    </tr>\n",
       "  </tbody>\n",
       "</table>\n",
       "</div>"
      ],
      "text/plain": [
       "SITUAÇÃO DO DOMICÍLIO  RURAL  URBANA    All\n",
       "UF                                         \n",
       "AC                      7279   17060  24339\n",
       "RO                     18989   39325  58314\n",
       "All                    26268   56385  82653"
      ]
     },
     "execution_count": 33,
     "metadata": {},
     "output_type": "execute_result"
    }
   ],
   "source": [
    "# TABELAS CRUZADAS\n",
    "pd.crosstab(domicilio_dom['UF'], domicilio_dom['SITUAÇÃO DO DOMICÍLIO'], margins=True)"
   ]
  },
  {
   "cell_type": "code",
   "execution_count": 34,
   "metadata": {},
   "outputs": [
    {
     "data": {
      "text/html": [
       "<div>\n",
       "<style scoped>\n",
       "    .dataframe tbody tr th:only-of-type {\n",
       "        vertical-align: middle;\n",
       "    }\n",
       "\n",
       "    .dataframe tbody tr th {\n",
       "        vertical-align: top;\n",
       "    }\n",
       "\n",
       "    .dataframe thead th {\n",
       "        text-align: right;\n",
       "    }\n",
       "</style>\n",
       "<table border=\"1\" class=\"dataframe\">\n",
       "  <thead>\n",
       "    <tr style=\"text-align: right;\">\n",
       "      <th>SITUAÇÃO DO DOMICÍLIO</th>\n",
       "      <th>RURAL</th>\n",
       "      <th>URBANA</th>\n",
       "      <th>All</th>\n",
       "    </tr>\n",
       "    <tr>\n",
       "      <th>UF</th>\n",
       "      <th></th>\n",
       "      <th></th>\n",
       "      <th></th>\n",
       "    </tr>\n",
       "  </thead>\n",
       "  <tbody>\n",
       "    <tr>\n",
       "      <th>AC</th>\n",
       "      <td>8.806698</td>\n",
       "      <td>20.640509</td>\n",
       "      <td>29.447207</td>\n",
       "    </tr>\n",
       "    <tr>\n",
       "      <th>RO</th>\n",
       "      <td>22.974363</td>\n",
       "      <td>47.578430</td>\n",
       "      <td>70.552793</td>\n",
       "    </tr>\n",
       "    <tr>\n",
       "      <th>All</th>\n",
       "      <td>31.781061</td>\n",
       "      <td>68.218939</td>\n",
       "      <td>100.000000</td>\n",
       "    </tr>\n",
       "  </tbody>\n",
       "</table>\n",
       "</div>"
      ],
      "text/plain": [
       "SITUAÇÃO DO DOMICÍLIO      RURAL     URBANA         All\n",
       "UF                                                     \n",
       "AC                      8.806698  20.640509   29.447207\n",
       "RO                     22.974363  47.578430   70.552793\n",
       "All                    31.781061  68.218939  100.000000"
      ]
     },
     "execution_count": 34,
     "metadata": {},
     "output_type": "execute_result"
    }
   ],
   "source": [
    "# TABELAS CRUZADAS COM PORCENTAGEM \n",
    "pd.crosstab(domicilio_dom['UF'], domicilio_dom['SITUAÇÃO DO DOMICÍLIO'], \n",
    "            margins=True)/len(domicilio_dom)*100"
   ]
  },
  {
   "cell_type": "markdown",
   "metadata": {},
   "source": [
    "### Gráficos\n",
    "\n",
    "Vamos apresentar alguns gráficos. Para mais explicações consulte o pdf do curso. "
   ]
  },
  {
   "cell_type": "code",
   "execution_count": 35,
   "metadata": {},
   "outputs": [
    {
     "data": {
      "text/plain": [
       "Text(0.5, 1.0, 'Boxplot do número de moradores')"
      ]
     },
     "execution_count": 35,
     "metadata": {},
     "output_type": "execute_result"
    },
    {
     "data": {
      "image/png": "[encoded data removed]",
      "text/plain": [
       "<Figure size 432x288 with 1 Axes>"
      ]
     },
     "metadata": {
      "needs_background": "light"
     },
     "output_type": "display_data"
    }
   ],
   "source": [
    "# Boxplot \n",
    "g1 = sns.boxplot(domicilio_dom[['MORADORES']], color='violet') ##Importante a coluna estar entre duas chaves\n",
    "g1.set_title('Boxplot do número de moradores')"
   ]
  },
  {
   "cell_type": "code",
   "execution_count": 36,
   "metadata": {},
   "outputs": [
    {
     "data": {
      "text/plain": [
       "Text(0.5, 1.0, 'Histograma do número de moradores')"
      ]
     },
     "execution_count": 36,
     "metadata": {},
     "output_type": "execute_result"
    },
    {
     "data": {
      "image/png": "[encoded data removed]",
      "text/plain": [
       "<Figure size 432x288 with 1 Axes>"
      ]
     },
     "metadata": {
      "needs_background": "light"
     },
     "output_type": "display_data"
    }
   ],
   "source": [
    "# Histograma- OUTRO MODELO\n",
    "g2 = sns.distplot(domicilio_dom[['MORADORES']].dropna(),bins=20,kde=False, color='red')   #precisa do dropna() ou não roda4\n",
    "g2.set_title('Histograma do número de moradores')"
   ]
  },
  {
   "cell_type": "code",
   "execution_count": 37,
   "metadata": {},
   "outputs": [
    {
     "name": "stderr",
     "output_type": "stream",
     "text": [
      "C:\\ProgramData\\Anaconda3\\lib\\site-packages\\scipy\\stats\\stats.py:1713: FutureWarning: Using a non-tuple sequence for multidimensional indexing is deprecated; use `arr[tuple(seq)]` instead of `arr[seq]`. In the future this will be interpreted as an array index, `arr[np.array(seq)]`, which will result either in an error or a different result.\n",
      "  return np.add.reduce(sorted[indexer] * weights, axis=axis) / sumval\n"
     ]
    },
    {
     "data": {
      "text/plain": [
       "Text(0.5, 1.0, 'Histograma do número de moradores')"
      ]
     },
     "execution_count": 37,
     "metadata": {},
     "output_type": "execute_result"
    },
    {
     "data": {
      "image/png": "[encoded data removed]",
      "text/plain": [
       "<Figure size 432x288 with 1 Axes>"
      ]
     },
     "metadata": {
      "needs_background": "light"
     },
     "output_type": "display_data"
    }
   ],
   "source": [
    "# Outras especificações do Histograma\n",
    "\n",
    "g5 = sns.distplot(domicilio_dom[['MORADORES']].dropna(),hist = True,\n",
    "                  kde = True, rug = True, color='red')   #precisa do dropna() ou não roda4\n",
    "g5.set_title('Histograma do número de moradores')"
   ]
  },
  {
   "cell_type": "code",
   "execution_count": 38,
   "metadata": {
    "scrolled": true
   },
   "outputs": [
    {
     "data": {
      "text/plain": [
       "Text(0.5, 1.0, 'Gráfico de dispersão do valor do aluguel versus Rendimento mensal do domicilio')"
      ]
     },
     "execution_count": 38,
     "metadata": {},
     "output_type": "execute_result"
    },
    {
     "data": {
      "image/png": "[encoded data removed]",
      "text/plain": [
       "<Figure size 432x288 with 1 Axes>"
      ]
     },
     "metadata": {
      "needs_background": "light"
     },
     "output_type": "display_data"
    }
   ],
   "source": [
    "# Gráfico de dispersão\n",
    "g3 = sns.scatterplot(y='VALOR DO ALUGUEL',x=\"RENDIMENTO MENSAL DOMICILIAR\",data=domicilio_dom,alpha=0.5)\n",
    "g3.set_title('Gráfico de dispersão do valor do aluguel versus Rendimento mensal do domicilio')"
   ]
  },
  {
   "cell_type": "code",
   "execution_count": 39,
   "metadata": {},
   "outputs": [
    {
     "data": {
      "text/plain": [
       "Text(0.5, 1.0, 'Gráfico de dispersão do valor do aluguel versus Rendimento mensal do domicilio')"
      ]
     },
     "execution_count": 39,
     "metadata": {},
     "output_type": "execute_result"
    },
    {
     "data": {
      "image/png": "[encoded data removed]",
      "text/plain": [
       "<Figure size 432x288 with 1 Axes>"
      ]
     },
     "metadata": {
      "needs_background": "light"
     },
     "output_type": "display_data"
    }
   ],
   "source": [
    "# Gráfico de dispersão com 3 variáveis\n",
    "g6 = sns.scatterplot(y='VALOR DO ALUGUEL',x=\"RENDIMENTO MENSAL DOMICILIAR\",\n",
    "                     hue='UF', data=domicilio_dom,alpha=0.3)\n",
    "g6.set_title('Gráfico de dispersão do valor do aluguel versus Rendimento mensal do domicilio')"
   ]
  },
  {
   "cell_type": "code",
   "execution_count": 40,
   "metadata": {},
   "outputs": [
    {
     "data": {
      "image/png": "[encoded data removed]",
      "text/plain": [
       "<Figure size 432x288 with 1 Axes>"
      ]
     },
     "metadata": {
      "needs_background": "light"
     },
     "output_type": "display_data"
    }
   ],
   "source": [
    "# Gráfico de barras\n",
    "# Rendimento mensal por Estado\n",
    "sns.barplot(y='RENDIMENTO MENSAL DOMICILIAR',\n",
    "            x='UF', data = domicilio_dom)\n",
    "plt.show()"
   ]
  },
  {
   "cell_type": "code",
   "execution_count": 41,
   "metadata": {},
   "outputs": [
    {
     "data": {
      "image/png": "[encoded data removed]",
      "text/plain": [
       "<Figure size 432x288 with 1 Axes>"
      ]
     },
     "metadata": {},
     "output_type": "display_data"
    }
   ],
   "source": [
    "pie_values = domicilio_dom['UF'].value_counts().rename_axis('estado').reset_index(name=\"valor\")\n",
    "plt.pie(pie_values[\"valor\"],labels = pie_values[\"estado\"],autopct='%1.1f%%', shadow=True, startangle=140)\n",
    "plt.axis('equal')\n",
    "plt.show()"
   ]
  },
  {
   "cell_type": "code",
   "execution_count": 42,
   "metadata": {},
   "outputs": [
    {
     "name": "stderr",
     "output_type": "stream",
     "text": [
      "C:\\ProgramData\\Anaconda3\\lib\\site-packages\\statsmodels\\nonparametric\\kde.py:448: RuntimeWarning: invalid value encountered in greater\n",
      "  X = X[np.logical_and(X > clip[0], X < clip[1])] # won't work for two columns.\n",
      "C:\\ProgramData\\Anaconda3\\lib\\site-packages\\statsmodels\\nonparametric\\kde.py:448: RuntimeWarning: invalid value encountered in less\n",
      "  X = X[np.logical_and(X > clip[0], X < clip[1])] # won't work for two columns.\n"
     ]
    },
    {
     "data": {
      "image/png": "[encoded data removed]",
      "text/plain": [
       "<Figure size 590.625x540 with 12 Axes>"
      ]
     },
     "metadata": {
      "needs_background": "light"
     },
     "output_type": "display_data"
    }
   ],
   "source": [
    "# Gráficos agrupados (histograma e dispersão)\n",
    "plt.close()\n",
    "sns.pairplot(data=domicilio_dom,vars =[\"MORADORES\", 'VALOR DO ALUGUEL',\"RENDIMENTO MENSAL DOMICILIAR\"]\n",
    "             , hue = \"UF\")\n",
    "plt.show()"
   ]
  },
  {
   "cell_type": "code",
   "execution_count": 43,
   "metadata": {},
   "outputs": [
    {
     "data": {
      "image/png": "[encoded data removed]",
      "text/plain": [
       "<Figure size 720x576 with 2 Axes>"
      ]
     },
     "metadata": {
      "needs_background": "light"
     },
     "output_type": "display_data"
    }
   ],
   "source": [
    "# Gráfico de correlação \n",
    "# Correlação para variáveis continuas\n",
    "f, ax = plt.subplots(figsize=(10, 8))\n",
    "corr = domicilio_dom.corr()\n",
    "sns.heatmap(corr, mask=np.zeros_like(corr, dtype=np.bool), \n",
    "            cmap=sns.diverging_palette(220, 10, as_cmap=True),\n",
    "            square=True, ax=ax,annot=True)\n",
    "ax.set_title('Correlação - Variáveis Continuas')\n",
    "plt.show()"
   ]
  },
  {
   "cell_type": "code",
   "execution_count": 44,
   "metadata": {},
   "outputs": [
    {
     "data": {
      "image/png": "[encoded data removed]",
      "text/plain": [
       "<Figure size 432x432 with 3 Axes>"
      ]
     },
     "metadata": {
      "needs_background": "light"
     },
     "output_type": "display_data"
    }
   ],
   "source": [
    "# Exemplos de gráficos 2 em 1\n",
    "sns.jointplot(y='VALOR DO ALUGUEL',x=\"RENDIMENTO MENSAL DOMICILIAR\",data=domicilio_dom,alpha=0.2,\n",
    "             color='red')\n",
    "plt.show()\n",
    "plt.show()"
   ]
  },
  {
   "cell_type": "code",
   "execution_count": 45,
   "metadata": {},
   "outputs": [
    {
     "data": {
      "image/png": "[encoded data removed]",
      "text/plain": [
       "<Figure size 432x432 with 3 Axes>"
      ]
     },
     "metadata": {
      "needs_background": "light"
     },
     "output_type": "display_data"
    }
   ],
   "source": [
    "# Outro Exemplo de gráfico 2 em 1\n",
    "sns.jointplot(y=\"RENDIMENTO MENSAL DOMICILIAR\",x=\"MORADORES\",data=domicilio_dom,alpha=0.2,\n",
    "             color='green')\n",
    "plt.show()"
   ]
  },
  {
   "cell_type": "markdown",
   "metadata": {},
   "source": [
    "## JUNTAR BANCOS DE DADOS\n",
    "\n",
    "O IBGE solta os dados para Domícilios e de Pessoas de forma separada mas, se quisermos conseguimos unir as informações dos dois universos.\n",
    "\n",
    "As duas bases tem uma variável em comum, a coluna \"Controle\", com ela conseguimos unir as bases de dados. Vamos agora ver os comandos que nos permite fazer isso. "
   ]
  },
  {
   "cell_type": "markdown",
   "metadata": {},
   "source": [
    "### Adicionar informações de domicílios na tabela de pessoas\n",
    "\n",
    "Primeiro vamos filtrar as variáveis da base de dados de pessoas que vamos usar na nova base de dados. Assim economizamos tempo e não nos confundir com outras variaveis, o tempo de processamento dos dados diminui. \n",
    "\n",
    "Lembrando que se você desejar você pode usar a base de dados completa e lembrando também que já criamos uma base de dados com algumas variáveis da base de domicílios. "
   ]
  },
  {
   "cell_type": "code",
   "execution_count": 46,
   "metadata": {},
   "outputs": [
    {
     "data": {
      "text/html": [
       "<div>\n",
       "<style scoped>\n",
       "    .dataframe tbody tr th:only-of-type {\n",
       "        vertical-align: middle;\n",
       "    }\n",
       "\n",
       "    .dataframe tbody tr th {\n",
       "        vertical-align: top;\n",
       "    }\n",
       "\n",
       "    .dataframe thead th {\n",
       "        text-align: right;\n",
       "    }\n",
       "</style>\n",
       "<table border=\"1\" class=\"dataframe\">\n",
       "  <thead>\n",
       "    <tr style=\"text-align: right;\">\n",
       "      <th></th>\n",
       "      <th>CONTROLE</th>\n",
       "      <th>COR</th>\n",
       "    </tr>\n",
       "  </thead>\n",
       "  <tbody>\n",
       "    <tr>\n",
       "      <th>0</th>\n",
       "      <td>20683</td>\n",
       "      <td>4</td>\n",
       "    </tr>\n",
       "    <tr>\n",
       "      <th>1</th>\n",
       "      <td>20693</td>\n",
       "      <td>4</td>\n",
       "    </tr>\n",
       "    <tr>\n",
       "      <th>2</th>\n",
       "      <td>20693</td>\n",
       "      <td>4</td>\n",
       "    </tr>\n",
       "    <tr>\n",
       "      <th>3</th>\n",
       "      <td>44285</td>\n",
       "      <td>4</td>\n",
       "    </tr>\n",
       "    <tr>\n",
       "      <th>4</th>\n",
       "      <td>44285</td>\n",
       "      <td>1</td>\n",
       "    </tr>\n",
       "  </tbody>\n",
       "</table>\n",
       "</div>"
      ],
      "text/plain": [
       "  CONTROLE COR\n",
       "0    20683   4\n",
       "1    20693   4\n",
       "2    20693   4\n",
       "3    44285   4\n",
       "4    44285   1"
      ]
     },
     "execution_count": 46,
     "metadata": {},
     "output_type": "execute_result"
    }
   ],
   "source": [
    "pessoas_sel = pessoas[['V0300','V0606']]\n",
    "pessoas_sel = pessoas_sel.rename(columns={'V0300':'CONTROLE','V0606':'COR'})\n",
    "pessoas_sel.head()"
   ]
  },
  {
   "cell_type": "code",
   "execution_count": 47,
   "metadata": {},
   "outputs": [
    {
     "name": "stdout",
     "output_type": "stream",
     "text": [
      "<class 'pandas.core.frame.DataFrame'>\n",
      "RangeIndex: 82653 entries, 0 to 82652\n",
      "Data columns (total 9 columns):\n",
      "UF                                 82653 non-null object\n",
      "SITUAÇÃO DO DOMICÍLIO              82653 non-null object\n",
      "ESPÉCIE DE UNIDADE VISITADA        82653 non-null object\n",
      "DOMICÍLIO, CONDIÇÃO DE OCUPAÇÃO    82653 non-null object\n",
      "PESO                               82653 non-null float64\n",
      "RENDIMENTO MENSAL DOMICILIAR       81722 non-null float64\n",
      "VALOR DO ALUGUEL                   11227 non-null float64\n",
      "MORADORES                          82653 non-null float64\n",
      "CONTROLE                           82653 non-null float64\n",
      "dtypes: float64(5), object(4)\n",
      "memory usage: 5.7+ MB\n"
     ]
    }
   ],
   "source": [
    "domicilio_dom.info() # informações sobre a base\n",
    "## Conferir nomes e tipos das variáveis"
   ]
  },
  {
   "cell_type": "markdown",
   "metadata": {},
   "source": [
    "Para que a gente consiga unir a base de dados de pessoas e domicilios precisamos ter uma coluna em comum entre os dois dados essa coluna se chama controle e usaremos ela para unir as duas bases."
   ]
  },
  {
   "cell_type": "code",
   "execution_count": 48,
   "metadata": {},
   "outputs": [
    {
     "name": "stdout",
     "output_type": "stream",
     "text": [
      "<class 'pandas.core.frame.DataFrame'>\n",
      "RangeIndex: 289282 entries, 0 to 289281\n",
      "Data columns (total 2 columns):\n",
      "CONTROLE    289282 non-null float64\n",
      "COR         289282 non-null object\n",
      "dtypes: float64(1), object(1)\n",
      "memory usage: 4.4+ MB\n"
     ]
    }
   ],
   "source": [
    "## KEY PRECISA SER DO MESMO TIPO NOS DOIS DATAFRAMES\n",
    "pessoas_sel['CONTROLE']=pessoas_sel['CONTROLE'].astype(float)\n",
    "pessoas_sel.info()"
   ]
  },
  {
   "cell_type": "markdown",
   "metadata": {},
   "source": [
    "Adicionar informações de domícilios no banco de pessoas que selecionamos acima.  Este comando vai unir os dados do domicílio com a seleção de pessoas que nós fizemos, ou seja, juntar a base de dados **domicilio_dom** e **pessoas_sel** de acordo com a variavel controle."
   ]
  },
  {
   "cell_type": "code",
   "execution_count": 49,
   "metadata": {},
   "outputs": [
    {
     "data": {
      "text/html": [
       "<div>\n",
       "<style scoped>\n",
       "    .dataframe tbody tr th:only-of-type {\n",
       "        vertical-align: middle;\n",
       "    }\n",
       "\n",
       "    .dataframe tbody tr th {\n",
       "        vertical-align: top;\n",
       "    }\n",
       "\n",
       "    .dataframe thead th {\n",
       "        text-align: right;\n",
       "    }\n",
       "</style>\n",
       "<table border=\"1\" class=\"dataframe\">\n",
       "  <thead>\n",
       "    <tr style=\"text-align: right;\">\n",
       "      <th></th>\n",
       "      <th>UF</th>\n",
       "      <th>SITUAÇÃO DO DOMICÍLIO</th>\n",
       "      <th>ESPÉCIE DE UNIDADE VISITADA</th>\n",
       "      <th>DOMICÍLIO, CONDIÇÃO DE OCUPAÇÃO</th>\n",
       "      <th>PESO</th>\n",
       "      <th>RENDIMENTO MENSAL DOMICILIAR</th>\n",
       "      <th>VALOR DO ALUGUEL</th>\n",
       "      <th>MORADORES</th>\n",
       "      <th>CONTROLE</th>\n",
       "      <th>COR</th>\n",
       "    </tr>\n",
       "  </thead>\n",
       "  <tbody>\n",
       "    <tr>\n",
       "      <th>0</th>\n",
       "      <td>AC</td>\n",
       "      <td>URBANA</td>\n",
       "      <td>1</td>\n",
       "      <td>Cedido de outra forma</td>\n",
       "      <td>4.679949</td>\n",
       "      <td>0.0</td>\n",
       "      <td>NaN</td>\n",
       "      <td>1.0</td>\n",
       "      <td>20683.0</td>\n",
       "      <td>4</td>\n",
       "    </tr>\n",
       "    <tr>\n",
       "      <th>1</th>\n",
       "      <td>AC</td>\n",
       "      <td>URBANA</td>\n",
       "      <td>1</td>\n",
       "      <td>Próprio de algum morador - já pago</td>\n",
       "      <td>4.285558</td>\n",
       "      <td>1310.0</td>\n",
       "      <td>NaN</td>\n",
       "      <td>2.0</td>\n",
       "      <td>20693.0</td>\n",
       "      <td>4</td>\n",
       "    </tr>\n",
       "    <tr>\n",
       "      <th>2</th>\n",
       "      <td>AC</td>\n",
       "      <td>URBANA</td>\n",
       "      <td>1</td>\n",
       "      <td>Próprio de algum morador - já pago</td>\n",
       "      <td>4.285558</td>\n",
       "      <td>1310.0</td>\n",
       "      <td>NaN</td>\n",
       "      <td>2.0</td>\n",
       "      <td>20693.0</td>\n",
       "      <td>4</td>\n",
       "    </tr>\n",
       "    <tr>\n",
       "      <th>3</th>\n",
       "      <td>AC</td>\n",
       "      <td>URBANA</td>\n",
       "      <td>1</td>\n",
       "      <td>Próprio de algum morador - já pago</td>\n",
       "      <td>4.324012</td>\n",
       "      <td>2000.0</td>\n",
       "      <td>NaN</td>\n",
       "      <td>4.0</td>\n",
       "      <td>44285.0</td>\n",
       "      <td>4</td>\n",
       "    </tr>\n",
       "    <tr>\n",
       "      <th>4</th>\n",
       "      <td>AC</td>\n",
       "      <td>URBANA</td>\n",
       "      <td>1</td>\n",
       "      <td>Próprio de algum morador - já pago</td>\n",
       "      <td>4.324012</td>\n",
       "      <td>2000.0</td>\n",
       "      <td>NaN</td>\n",
       "      <td>4.0</td>\n",
       "      <td>44285.0</td>\n",
       "      <td>1</td>\n",
       "    </tr>\n",
       "  </tbody>\n",
       "</table>\n",
       "</div>"
      ],
      "text/plain": [
       "   UF SITUAÇÃO DO DOMICÍLIO ESPÉCIE DE UNIDADE VISITADA  \\\n",
       "0  AC                URBANA                           1   \n",
       "1  AC                URBANA                           1   \n",
       "2  AC                URBANA                           1   \n",
       "3  AC                URBANA                           1   \n",
       "4  AC                URBANA                           1   \n",
       "\n",
       "      DOMICÍLIO, CONDIÇÃO DE OCUPAÇÃO      PESO  RENDIMENTO MENSAL DOMICILIAR  \\\n",
       "0               Cedido de outra forma  4.679949                           0.0   \n",
       "1  Próprio de algum morador - já pago  4.285558                        1310.0   \n",
       "2  Próprio de algum morador - já pago  4.285558                        1310.0   \n",
       "3  Próprio de algum morador - já pago  4.324012                        2000.0   \n",
       "4  Próprio de algum morador - já pago  4.324012                        2000.0   \n",
       "\n",
       "   VALOR DO ALUGUEL  MORADORES  CONTROLE COR  \n",
       "0               NaN        1.0   20683.0   4  \n",
       "1               NaN        2.0   20693.0   4  \n",
       "2               NaN        2.0   20693.0   4  \n",
       "3               NaN        4.0   44285.0   4  \n",
       "4               NaN        4.0   44285.0   1  "
      ]
     },
     "execution_count": 49,
     "metadata": {},
     "output_type": "execute_result"
    }
   ],
   "source": [
    "censo_joined = pd.merge(domicilio_dom,pessoas_sel,on='CONTROLE',how=\"outer\")\n",
    "censo_joined.head()"
   ]
  },
  {
   "cell_type": "markdown",
   "metadata": {},
   "source": [
    "### Agregar informações de pessoas por domícilio\n",
    "\n",
    "Agora que unimos a base de dados de domicílios e de pessoas conseguimos fazer algumas análises mais elaboradas usando as informações das duas bases.\n",
    "\n",
    "**Exemplo :** agora podemos agrupar o numero de pessoas do domicílio por cor. "
   ]
  },
  {
   "cell_type": "markdown",
   "metadata": {},
   "source": [
    "##### Dummies\n",
    "\n",
    "Vamos mostrar agora como criar variáveis dummies no Python, isso é bem útil quando estamos trabalhando com variáveis categoricas. \n",
    "\n",
    "No dicionário do IBGE, a variável cor tem várias classificações. \n",
    "1- Branca\n",
    "2- Preta\n",
    "3- Amarela\n",
    "4- Parda\n",
    "5- Indígena\n",
    "9- Ignorado\n",
    "\n",
    "Vamos criar uma dummie para cada uma dessas classes. "
   ]
  },
  {
   "cell_type": "code",
   "execution_count": 50,
   "metadata": {},
   "outputs": [
    {
     "data": {
      "text/html": [
       "<div>\n",
       "<style scoped>\n",
       "    .dataframe tbody tr th:only-of-type {\n",
       "        vertical-align: middle;\n",
       "    }\n",
       "\n",
       "    .dataframe tbody tr th {\n",
       "        vertical-align: top;\n",
       "    }\n",
       "\n",
       "    .dataframe thead th {\n",
       "        text-align: right;\n",
       "    }\n",
       "</style>\n",
       "<table border=\"1\" class=\"dataframe\">\n",
       "  <thead>\n",
       "    <tr style=\"text-align: right;\">\n",
       "      <th></th>\n",
       "      <th>CONTROLE</th>\n",
       "      <th>COR_1</th>\n",
       "      <th>COR_2</th>\n",
       "      <th>COR_3</th>\n",
       "      <th>COR_4</th>\n",
       "      <th>COR_5</th>\n",
       "      <th>COR_9</th>\n",
       "    </tr>\n",
       "  </thead>\n",
       "  <tbody>\n",
       "    <tr>\n",
       "      <th>0</th>\n",
       "      <td>20683.0</td>\n",
       "      <td>0</td>\n",
       "      <td>0</td>\n",
       "      <td>0</td>\n",
       "      <td>1</td>\n",
       "      <td>0</td>\n",
       "      <td>0</td>\n",
       "    </tr>\n",
       "    <tr>\n",
       "      <th>1</th>\n",
       "      <td>20693.0</td>\n",
       "      <td>0</td>\n",
       "      <td>0</td>\n",
       "      <td>0</td>\n",
       "      <td>1</td>\n",
       "      <td>0</td>\n",
       "      <td>0</td>\n",
       "    </tr>\n",
       "    <tr>\n",
       "      <th>2</th>\n",
       "      <td>20693.0</td>\n",
       "      <td>0</td>\n",
       "      <td>0</td>\n",
       "      <td>0</td>\n",
       "      <td>1</td>\n",
       "      <td>0</td>\n",
       "      <td>0</td>\n",
       "    </tr>\n",
       "    <tr>\n",
       "      <th>3</th>\n",
       "      <td>44285.0</td>\n",
       "      <td>0</td>\n",
       "      <td>0</td>\n",
       "      <td>0</td>\n",
       "      <td>1</td>\n",
       "      <td>0</td>\n",
       "      <td>0</td>\n",
       "    </tr>\n",
       "    <tr>\n",
       "      <th>4</th>\n",
       "      <td>44285.0</td>\n",
       "      <td>1</td>\n",
       "      <td>0</td>\n",
       "      <td>0</td>\n",
       "      <td>0</td>\n",
       "      <td>0</td>\n",
       "      <td>0</td>\n",
       "    </tr>\n",
       "  </tbody>\n",
       "</table>\n",
       "</div>"
      ],
      "text/plain": [
       "   CONTROLE  COR_1  COR_2  COR_3  COR_4  COR_5  COR_9\n",
       "0   20683.0      0      0      0      1      0      0\n",
       "1   20693.0      0      0      0      1      0      0\n",
       "2   20693.0      0      0      0      1      0      0\n",
       "3   44285.0      0      0      0      1      0      0\n",
       "4   44285.0      1      0      0      0      0      0"
      ]
     },
     "execution_count": 50,
     "metadata": {},
     "output_type": "execute_result"
    }
   ],
   "source": [
    "##Criar dummies\n",
    "pessoas_cor = pd.get_dummies(pessoas_sel)\n",
    "pessoas_cor.head()\n"
   ]
  },
  {
   "cell_type": "markdown",
   "metadata": {},
   "source": [
    "Agora vamos juntar essas novas colunas criadas na nossa base de dados. "
   ]
  },
  {
   "cell_type": "code",
   "execution_count": 51,
   "metadata": {},
   "outputs": [
    {
     "data": {
      "text/html": [
       "<div>\n",
       "<style scoped>\n",
       "    .dataframe tbody tr th:only-of-type {\n",
       "        vertical-align: middle;\n",
       "    }\n",
       "\n",
       "    .dataframe tbody tr th {\n",
       "        vertical-align: top;\n",
       "    }\n",
       "\n",
       "    .dataframe thead th {\n",
       "        text-align: right;\n",
       "    }\n",
       "</style>\n",
       "<table border=\"1\" class=\"dataframe\">\n",
       "  <thead>\n",
       "    <tr style=\"text-align: right;\">\n",
       "      <th></th>\n",
       "      <th>PESO</th>\n",
       "      <th>RENDIMENTO MENSAL DOMICILIAR</th>\n",
       "      <th>VALOR DO ALUGUEL</th>\n",
       "      <th>MORADORES</th>\n",
       "      <th>COR_1</th>\n",
       "      <th>COR_2</th>\n",
       "      <th>COR_3</th>\n",
       "      <th>COR_4</th>\n",
       "      <th>COR_5</th>\n",
       "      <th>COR_9</th>\n",
       "    </tr>\n",
       "    <tr>\n",
       "      <th>CONTROLE</th>\n",
       "      <th></th>\n",
       "      <th></th>\n",
       "      <th></th>\n",
       "      <th></th>\n",
       "      <th></th>\n",
       "      <th></th>\n",
       "      <th></th>\n",
       "      <th></th>\n",
       "      <th></th>\n",
       "      <th></th>\n",
       "    </tr>\n",
       "  </thead>\n",
       "  <tbody>\n",
       "    <tr>\n",
       "      <th>27.0</th>\n",
       "      <td>1.409209e+01</td>\n",
       "      <td>8640.0</td>\n",
       "      <td>0.0</td>\n",
       "      <td>16.0</td>\n",
       "      <td>1</td>\n",
       "      <td>0</td>\n",
       "      <td>0</td>\n",
       "      <td>3</td>\n",
       "      <td>0</td>\n",
       "      <td>0</td>\n",
       "    </tr>\n",
       "    <tr>\n",
       "      <th>52.0</th>\n",
       "      <td>1.948539e+01</td>\n",
       "      <td>1648.0</td>\n",
       "      <td>0.0</td>\n",
       "      <td>16.0</td>\n",
       "      <td>0</td>\n",
       "      <td>0</td>\n",
       "      <td>0</td>\n",
       "      <td>4</td>\n",
       "      <td>0</td>\n",
       "      <td>0</td>\n",
       "    </tr>\n",
       "    <tr>\n",
       "      <th>102.0</th>\n",
       "      <td>6.272273e+00</td>\n",
       "      <td>1020.0</td>\n",
       "      <td>0.0</td>\n",
       "      <td>4.0</td>\n",
       "      <td>1</td>\n",
       "      <td>0</td>\n",
       "      <td>0</td>\n",
       "      <td>1</td>\n",
       "      <td>0</td>\n",
       "      <td>0</td>\n",
       "    </tr>\n",
       "    <tr>\n",
       "      <th>218.0</th>\n",
       "      <td>1.057689e+01</td>\n",
       "      <td>510.0</td>\n",
       "      <td>120.0</td>\n",
       "      <td>1.0</td>\n",
       "      <td>1</td>\n",
       "      <td>0</td>\n",
       "      <td>0</td>\n",
       "      <td>0</td>\n",
       "      <td>0</td>\n",
       "      <td>0</td>\n",
       "    </tr>\n",
       "    <tr>\n",
       "      <th>388.0</th>\n",
       "      <td>1.298031e+13</td>\n",
       "      <td>2040.0</td>\n",
       "      <td>0.0</td>\n",
       "      <td>4.0</td>\n",
       "      <td>1</td>\n",
       "      <td>1</td>\n",
       "      <td>0</td>\n",
       "      <td>0</td>\n",
       "      <td>0</td>\n",
       "      <td>0</td>\n",
       "    </tr>\n",
       "  </tbody>\n",
       "</table>\n",
       "</div>"
      ],
      "text/plain": [
       "                  PESO  RENDIMENTO MENSAL DOMICILIAR  VALOR DO ALUGUEL  \\\n",
       "CONTROLE                                                                 \n",
       "27.0      1.409209e+01                        8640.0               0.0   \n",
       "52.0      1.948539e+01                        1648.0               0.0   \n",
       "102.0     6.272273e+00                        1020.0               0.0   \n",
       "218.0     1.057689e+01                         510.0             120.0   \n",
       "388.0     1.298031e+13                        2040.0               0.0   \n",
       "\n",
       "          MORADORES  COR_1  COR_2  COR_3  COR_4  COR_5  COR_9  \n",
       "CONTROLE                                                       \n",
       "27.0           16.0      1      0      0      3      0      0  \n",
       "52.0           16.0      0      0      0      4      0      0  \n",
       "102.0           4.0      1      0      0      1      0      0  \n",
       "218.0           1.0      1      0      0      0      0      0  \n",
       "388.0           4.0      1      1      0      0      0      0  "
      ]
     },
     "execution_count": 51,
     "metadata": {},
     "output_type": "execute_result"
    }
   ],
   "source": [
    "# juntando as dummies na nossa base de dados\n",
    "censo_joined2 = domicilio_dom.merge(pessoas_cor,on='CONTROLE', how=\"left\")\n",
    "censo_cor=censo_joined2.groupby('CONTROLE').aggregate(sum)\n",
    "censo_cor.head()"
   ]
  },
  {
   "cell_type": "markdown",
   "metadata": {},
   "source": [
    "##### Criando uma nova coluna\n",
    "Criando uma coluna com o nome: Porcentagem de negros. Essa variavel vai ser a quantidade de pessoas negras dividido pelo \n",
    "número de moradores.\n"
   ]
  },
  {
   "cell_type": "code",
   "execution_count": 52,
   "metadata": {},
   "outputs": [
    {
     "data": {
      "text/html": [
       "<div>\n",
       "<style scoped>\n",
       "    .dataframe tbody tr th:only-of-type {\n",
       "        vertical-align: middle;\n",
       "    }\n",
       "\n",
       "    .dataframe tbody tr th {\n",
       "        vertical-align: top;\n",
       "    }\n",
       "\n",
       "    .dataframe thead th {\n",
       "        text-align: right;\n",
       "    }\n",
       "</style>\n",
       "<table border=\"1\" class=\"dataframe\">\n",
       "  <thead>\n",
       "    <tr style=\"text-align: right;\">\n",
       "      <th></th>\n",
       "      <th>PESO</th>\n",
       "      <th>RENDIMENTO MENSAL DOMICILIAR</th>\n",
       "      <th>VALOR DO ALUGUEL</th>\n",
       "      <th>MORADORES</th>\n",
       "      <th>COR_1</th>\n",
       "      <th>COR_2</th>\n",
       "      <th>COR_3</th>\n",
       "      <th>COR_4</th>\n",
       "      <th>COR_5</th>\n",
       "      <th>COR_9</th>\n",
       "      <th>PORCENTAGEM DE NEGROS</th>\n",
       "    </tr>\n",
       "    <tr>\n",
       "      <th>CONTROLE</th>\n",
       "      <th></th>\n",
       "      <th></th>\n",
       "      <th></th>\n",
       "      <th></th>\n",
       "      <th></th>\n",
       "      <th></th>\n",
       "      <th></th>\n",
       "      <th></th>\n",
       "      <th></th>\n",
       "      <th></th>\n",
       "      <th></th>\n",
       "    </tr>\n",
       "  </thead>\n",
       "  <tbody>\n",
       "    <tr>\n",
       "      <th>27.0</th>\n",
       "      <td>1.409209e+01</td>\n",
       "      <td>8640.0</td>\n",
       "      <td>0.0</td>\n",
       "      <td>16.0</td>\n",
       "      <td>1</td>\n",
       "      <td>0</td>\n",
       "      <td>0</td>\n",
       "      <td>3</td>\n",
       "      <td>0</td>\n",
       "      <td>0</td>\n",
       "      <td>0.0</td>\n",
       "    </tr>\n",
       "    <tr>\n",
       "      <th>52.0</th>\n",
       "      <td>1.948539e+01</td>\n",
       "      <td>1648.0</td>\n",
       "      <td>0.0</td>\n",
       "      <td>16.0</td>\n",
       "      <td>0</td>\n",
       "      <td>0</td>\n",
       "      <td>0</td>\n",
       "      <td>4</td>\n",
       "      <td>0</td>\n",
       "      <td>0</td>\n",
       "      <td>0.0</td>\n",
       "    </tr>\n",
       "    <tr>\n",
       "      <th>102.0</th>\n",
       "      <td>6.272273e+00</td>\n",
       "      <td>1020.0</td>\n",
       "      <td>0.0</td>\n",
       "      <td>4.0</td>\n",
       "      <td>1</td>\n",
       "      <td>0</td>\n",
       "      <td>0</td>\n",
       "      <td>1</td>\n",
       "      <td>0</td>\n",
       "      <td>0</td>\n",
       "      <td>0.0</td>\n",
       "    </tr>\n",
       "    <tr>\n",
       "      <th>218.0</th>\n",
       "      <td>1.057689e+01</td>\n",
       "      <td>510.0</td>\n",
       "      <td>120.0</td>\n",
       "      <td>1.0</td>\n",
       "      <td>1</td>\n",
       "      <td>0</td>\n",
       "      <td>0</td>\n",
       "      <td>0</td>\n",
       "      <td>0</td>\n",
       "      <td>0</td>\n",
       "      <td>0.0</td>\n",
       "    </tr>\n",
       "    <tr>\n",
       "      <th>388.0</th>\n",
       "      <td>1.298031e+13</td>\n",
       "      <td>2040.0</td>\n",
       "      <td>0.0</td>\n",
       "      <td>4.0</td>\n",
       "      <td>1</td>\n",
       "      <td>1</td>\n",
       "      <td>0</td>\n",
       "      <td>0</td>\n",
       "      <td>0</td>\n",
       "      <td>0</td>\n",
       "      <td>25.0</td>\n",
       "    </tr>\n",
       "  </tbody>\n",
       "</table>\n",
       "</div>"
      ],
      "text/plain": [
       "                  PESO  RENDIMENTO MENSAL DOMICILIAR  VALOR DO ALUGUEL  \\\n",
       "CONTROLE                                                                 \n",
       "27.0      1.409209e+01                        8640.0               0.0   \n",
       "52.0      1.948539e+01                        1648.0               0.0   \n",
       "102.0     6.272273e+00                        1020.0               0.0   \n",
       "218.0     1.057689e+01                         510.0             120.0   \n",
       "388.0     1.298031e+13                        2040.0               0.0   \n",
       "\n",
       "          MORADORES  COR_1  COR_2  COR_3  COR_4  COR_5  COR_9  \\\n",
       "CONTROLE                                                        \n",
       "27.0           16.0      1      0      0      3      0      0   \n",
       "52.0           16.0      0      0      0      4      0      0   \n",
       "102.0           4.0      1      0      0      1      0      0   \n",
       "218.0           1.0      1      0      0      0      0      0   \n",
       "388.0           4.0      1      1      0      0      0      0   \n",
       "\n",
       "          PORCENTAGEM DE NEGROS  \n",
       "CONTROLE                         \n",
       "27.0                        0.0  \n",
       "52.0                        0.0  \n",
       "102.0                       0.0  \n",
       "218.0                       0.0  \n",
       "388.0                      25.0  "
      ]
     },
     "execution_count": 52,
     "metadata": {},
     "output_type": "execute_result"
    }
   ],
   "source": [
    "# Criando uma coluna com o nome: Porcentagem de negros\n",
    "censo_cor['PORCENTAGEM DE NEGROS']=(censo_cor['COR_2']/censo_cor['MORADORES'])*100\n",
    "censo_cor.head()"
   ]
  },
  {
   "cell_type": "code",
   "execution_count": 53,
   "metadata": {},
   "outputs": [
    {
     "data": {
      "text/plain": [
       "0.000000      71664\n",
       "25.000000      1643\n",
       "11.111111      1618\n",
       "6.250000       1365\n",
       "100.000000      982\n",
       "Name: PORCENTAGEM DE NEGROS, dtype: int64"
      ]
     },
     "execution_count": 53,
     "metadata": {},
     "output_type": "execute_result"
    }
   ],
   "source": [
    "# mostra a frequência para cada porcentagem de negros no domicilio.\n",
    "cor_freq= censo_cor['PORCENTAGEM DE NEGROS'].value_counts()\n",
    "cor_freq.head()"
   ]
  },
  {
   "cell_type": "markdown",
   "metadata": {},
   "source": [
    "##### Criando categorias dentro de uma coluna\n",
    "\n",
    "Para que uma variável fique interpretável, as vezes é necessário agrupar os resultados. Apresentamos um modo de fazer isso. "
   ]
  },
  {
   "cell_type": "code",
   "execution_count": 54,
   "metadata": {},
   "outputs": [
    {
     "data": {
      "text/plain": [
       "0     40214\n",
       "1     18013\n",
       "2     11347\n",
       "3      6827\n",
       "4      3897\n",
       "5      1556\n",
       "6       470\n",
       "7       175\n",
       "8        83\n",
       "9        44\n",
       "10       13\n",
       "11        6\n",
       "12        5\n",
       "14        2\n",
       "13        1\n",
       "Name: COR_1, dtype: int64"
      ]
     },
     "execution_count": 54,
     "metadata": {},
     "output_type": "execute_result"
    }
   ],
   "source": [
    "# Valores encontrados para a cor 1  (sem agregar em categorias)\n",
    "censo_cor['COR_1'].value_counts()"
   ]
  },
  {
   "cell_type": "code",
   "execution_count": 55,
   "metadata": {},
   "outputs": [
    {
     "data": {
      "text/html": [
       "<div>\n",
       "<style scoped>\n",
       "    .dataframe tbody tr th:only-of-type {\n",
       "        vertical-align: middle;\n",
       "    }\n",
       "\n",
       "    .dataframe tbody tr th {\n",
       "        vertical-align: top;\n",
       "    }\n",
       "\n",
       "    .dataframe thead th {\n",
       "        text-align: right;\n",
       "    }\n",
       "</style>\n",
       "<table border=\"1\" class=\"dataframe\">\n",
       "  <thead>\n",
       "    <tr style=\"text-align: right;\">\n",
       "      <th></th>\n",
       "      <th>PESO</th>\n",
       "      <th>RENDIMENTO MENSAL DOMICILIAR</th>\n",
       "      <th>VALOR DO ALUGUEL</th>\n",
       "      <th>MORADORES</th>\n",
       "      <th>COR_1</th>\n",
       "      <th>COR_2</th>\n",
       "      <th>COR_3</th>\n",
       "      <th>COR_4</th>\n",
       "      <th>COR_5</th>\n",
       "      <th>COR_9</th>\n",
       "      <th>PORCENTAGEM DE NEGROS</th>\n",
       "      <th>cor_cat</th>\n",
       "    </tr>\n",
       "    <tr>\n",
       "      <th>CONTROLE</th>\n",
       "      <th></th>\n",
       "      <th></th>\n",
       "      <th></th>\n",
       "      <th></th>\n",
       "      <th></th>\n",
       "      <th></th>\n",
       "      <th></th>\n",
       "      <th></th>\n",
       "      <th></th>\n",
       "      <th></th>\n",
       "      <th></th>\n",
       "      <th></th>\n",
       "    </tr>\n",
       "  </thead>\n",
       "  <tbody>\n",
       "    <tr>\n",
       "      <th>27.0</th>\n",
       "      <td>1.409209e+01</td>\n",
       "      <td>8640.0</td>\n",
       "      <td>0.0</td>\n",
       "      <td>16.0</td>\n",
       "      <td>1</td>\n",
       "      <td>0</td>\n",
       "      <td>0</td>\n",
       "      <td>3</td>\n",
       "      <td>0</td>\n",
       "      <td>0</td>\n",
       "      <td>0.0</td>\n",
       "      <td>a- &lt;25%</td>\n",
       "    </tr>\n",
       "    <tr>\n",
       "      <th>52.0</th>\n",
       "      <td>1.948539e+01</td>\n",
       "      <td>1648.0</td>\n",
       "      <td>0.0</td>\n",
       "      <td>16.0</td>\n",
       "      <td>0</td>\n",
       "      <td>0</td>\n",
       "      <td>0</td>\n",
       "      <td>4</td>\n",
       "      <td>0</td>\n",
       "      <td>0</td>\n",
       "      <td>0.0</td>\n",
       "      <td>a- &lt;25%</td>\n",
       "    </tr>\n",
       "    <tr>\n",
       "      <th>102.0</th>\n",
       "      <td>6.272273e+00</td>\n",
       "      <td>1020.0</td>\n",
       "      <td>0.0</td>\n",
       "      <td>4.0</td>\n",
       "      <td>1</td>\n",
       "      <td>0</td>\n",
       "      <td>0</td>\n",
       "      <td>1</td>\n",
       "      <td>0</td>\n",
       "      <td>0</td>\n",
       "      <td>0.0</td>\n",
       "      <td>a- &lt;25%</td>\n",
       "    </tr>\n",
       "    <tr>\n",
       "      <th>218.0</th>\n",
       "      <td>1.057689e+01</td>\n",
       "      <td>510.0</td>\n",
       "      <td>120.0</td>\n",
       "      <td>1.0</td>\n",
       "      <td>1</td>\n",
       "      <td>0</td>\n",
       "      <td>0</td>\n",
       "      <td>0</td>\n",
       "      <td>0</td>\n",
       "      <td>0</td>\n",
       "      <td>0.0</td>\n",
       "      <td>a- &lt;25%</td>\n",
       "    </tr>\n",
       "    <tr>\n",
       "      <th>388.0</th>\n",
       "      <td>1.298031e+13</td>\n",
       "      <td>2040.0</td>\n",
       "      <td>0.0</td>\n",
       "      <td>4.0</td>\n",
       "      <td>1</td>\n",
       "      <td>1</td>\n",
       "      <td>0</td>\n",
       "      <td>0</td>\n",
       "      <td>0</td>\n",
       "      <td>0</td>\n",
       "      <td>25.0</td>\n",
       "      <td>b - 25%-50%</td>\n",
       "    </tr>\n",
       "  </tbody>\n",
       "</table>\n",
       "</div>"
      ],
      "text/plain": [
       "                  PESO  RENDIMENTO MENSAL DOMICILIAR  VALOR DO ALUGUEL  \\\n",
       "CONTROLE                                                                 \n",
       "27.0      1.409209e+01                        8640.0               0.0   \n",
       "52.0      1.948539e+01                        1648.0               0.0   \n",
       "102.0     6.272273e+00                        1020.0               0.0   \n",
       "218.0     1.057689e+01                         510.0             120.0   \n",
       "388.0     1.298031e+13                        2040.0               0.0   \n",
       "\n",
       "          MORADORES  COR_1  COR_2  COR_3  COR_4  COR_5  COR_9  \\\n",
       "CONTROLE                                                        \n",
       "27.0           16.0      1      0      0      3      0      0   \n",
       "52.0           16.0      0      0      0      4      0      0   \n",
       "102.0           4.0      1      0      0      1      0      0   \n",
       "218.0           1.0      1      0      0      0      0      0   \n",
       "388.0           4.0      1      1      0      0      0      0   \n",
       "\n",
       "          PORCENTAGEM DE NEGROS      cor_cat  \n",
       "CONTROLE                                      \n",
       "27.0                        0.0      a- <25%  \n",
       "52.0                        0.0      a- <25%  \n",
       "102.0                       0.0      a- <25%  \n",
       "218.0                       0.0      a- <25%  \n",
       "388.0                      25.0  b - 25%-50%  "
      ]
     },
     "execution_count": 55,
     "metadata": {},
     "output_type": "execute_result"
    }
   ],
   "source": [
    "#Criar uma classificação das porcentagens em faixas para facilitar interpretação\n",
    "censo_cor.loc[censo_cor['PORCENTAGEM DE NEGROS']<25,'cor_cat'] = 'a- <25%'\n",
    "censo_cor.loc[(censo_cor['PORCENTAGEM DE NEGROS']>=25) & ( censo_cor['PORCENTAGEM DE NEGROS']<50) ,'cor_cat'] = 'b - 25%-50%'\n",
    "censo_cor.loc[(censo_cor['PORCENTAGEM DE NEGROS']>=50 ) & ( censo_cor['PORCENTAGEM DE NEGROS']<75),'cor_cat'] = 'c- 50%-75%'\n",
    "censo_cor.loc[censo_cor['PORCENTAGEM DE NEGROS']>=75,'cor_cat'] = 'd- >75%'\n",
    "censo_cor.head()"
   ]
  },
  {
   "cell_type": "code",
   "execution_count": 56,
   "metadata": {},
   "outputs": [
    {
     "data": {
      "text/html": [
       "<div>\n",
       "<style scoped>\n",
       "    .dataframe tbody tr th:only-of-type {\n",
       "        vertical-align: middle;\n",
       "    }\n",
       "\n",
       "    .dataframe tbody tr th {\n",
       "        vertical-align: top;\n",
       "    }\n",
       "\n",
       "    .dataframe thead th {\n",
       "        text-align: right;\n",
       "    }\n",
       "</style>\n",
       "<table border=\"1\" class=\"dataframe\">\n",
       "  <thead>\n",
       "    <tr style=\"text-align: right;\">\n",
       "      <th></th>\n",
       "      <th>Porcentagem de negros</th>\n",
       "      <th>Freq</th>\n",
       "    </tr>\n",
       "  </thead>\n",
       "  <tbody>\n",
       "    <tr>\n",
       "      <th>0</th>\n",
       "      <td>a- &lt;25%</td>\n",
       "      <td>79113</td>\n",
       "    </tr>\n",
       "    <tr>\n",
       "      <th>1</th>\n",
       "      <td>b - 25%-50%</td>\n",
       "      <td>2031</td>\n",
       "    </tr>\n",
       "    <tr>\n",
       "      <th>3</th>\n",
       "      <td>c- 50%-75%</td>\n",
       "      <td>527</td>\n",
       "    </tr>\n",
       "    <tr>\n",
       "      <th>2</th>\n",
       "      <td>d- &gt;75%</td>\n",
       "      <td>982</td>\n",
       "    </tr>\n",
       "  </tbody>\n",
       "</table>\n",
       "</div>"
      ],
      "text/plain": [
       "  Porcentagem de negros   Freq\n",
       "0               a- <25%  79113\n",
       "1           b - 25%-50%   2031\n",
       "3            c- 50%-75%    527\n",
       "2               d- >75%    982"
      ]
     },
     "execution_count": 56,
     "metadata": {},
     "output_type": "execute_result"
    }
   ],
   "source": [
    "##  mostra a frequência para cada porcentagem de negros no domicilio. - EM 4 CATEGORIAS\n",
    "cor_freq= censo_cor['cor_cat'].value_counts().rename_axis('Porcentagem de negros').reset_index(name=\"Freq\")\n",
    "cor_freq.head(10).sort_values(by='Porcentagem de negros')"
   ]
  },
  {
   "cell_type": "code",
   "execution_count": 57,
   "metadata": {},
   "outputs": [
    {
     "data": {
      "text/html": [
       "<div>\n",
       "<style scoped>\n",
       "    .dataframe tbody tr th:only-of-type {\n",
       "        vertical-align: middle;\n",
       "    }\n",
       "\n",
       "    .dataframe tbody tr th {\n",
       "        vertical-align: top;\n",
       "    }\n",
       "\n",
       "    .dataframe thead th {\n",
       "        text-align: right;\n",
       "    }\n",
       "</style>\n",
       "<table border=\"1\" class=\"dataframe\">\n",
       "  <thead>\n",
       "    <tr style=\"text-align: right;\">\n",
       "      <th>cor_cat</th>\n",
       "      <th>a- &lt;25%</th>\n",
       "      <th>b - 25%-50%</th>\n",
       "      <th>c- 50%-75%</th>\n",
       "      <th>d- &gt;75%</th>\n",
       "      <th>All</th>\n",
       "    </tr>\n",
       "    <tr>\n",
       "      <th>SITUAÇÃO DO DOMICÍLIO</th>\n",
       "      <th></th>\n",
       "      <th></th>\n",
       "      <th></th>\n",
       "      <th></th>\n",
       "      <th></th>\n",
       "    </tr>\n",
       "  </thead>\n",
       "  <tbody>\n",
       "    <tr>\n",
       "      <th>RURAL</th>\n",
       "      <td>0.411358</td>\n",
       "      <td>0.004840</td>\n",
       "      <td>0.000000</td>\n",
       "      <td>0.004840</td>\n",
       "      <td>0.421037</td>\n",
       "    </tr>\n",
       "    <tr>\n",
       "      <th>URBANA</th>\n",
       "      <td>0.880791</td>\n",
       "      <td>0.033877</td>\n",
       "      <td>0.006049</td>\n",
       "      <td>0.009679</td>\n",
       "      <td>0.930396</td>\n",
       "    </tr>\n",
       "    <tr>\n",
       "      <th>All</th>\n",
       "      <td>1.292149</td>\n",
       "      <td>0.038716</td>\n",
       "      <td>0.006049</td>\n",
       "      <td>0.014519</td>\n",
       "      <td>1.351433</td>\n",
       "    </tr>\n",
       "  </tbody>\n",
       "</table>\n",
       "</div>"
      ],
      "text/plain": [
       "cor_cat                 a- <25%  b - 25%-50%  c- 50%-75%   d- >75%       All\n",
       "SITUAÇÃO DO DOMICÍLIO                                                       \n",
       "RURAL                  0.411358     0.004840    0.000000  0.004840  0.421037\n",
       "URBANA                 0.880791     0.033877    0.006049  0.009679  0.930396\n",
       "All                    1.292149     0.038716    0.006049  0.014519  1.351433"
      ]
     },
     "execution_count": 57,
     "metadata": {},
     "output_type": "execute_result"
    }
   ],
   "source": [
    "# Tabela cruzada que cruza a situação do domicilio com a Cor\n",
    "pd.crosstab( domicilio_dom['SITUAÇÃO DO DOMICÍLIO'],censo_cor['cor_cat'], \n",
    "            margins=True)/len(domicilio_dom)*100"
   ]
  },
  {
   "cell_type": "markdown",
   "metadata": {},
   "source": [
    "## Teste de diferença de médias\n",
    "Podemos fazer um teste para a diferença de média de moradores entre os estados de AC e RO"
   ]
  },
  {
   "cell_type": "code",
   "execution_count": 58,
   "metadata": {},
   "outputs": [
    {
     "data": {
      "text/plain": [
       "<matplotlib.axes._subplots.AxesSubplot at 0x1fca8b3fba8>"
      ]
     },
     "execution_count": 58,
     "metadata": {},
     "output_type": "execute_result"
    },
    {
     "data": {
      "image/png": "[encoded data removed]",
      "text/plain": [
       "<Figure size 432x288 with 1 Axes>"
      ]
     },
     "metadata": {
      "needs_background": "light"
     },
     "output_type": "display_data"
    }
   ],
   "source": [
    "# Gráfico de barras\n",
    "# Rendimento mensal por Estado\n",
    "sns.boxplot(y='MORADORES',\n",
    "            x='UF', data = domicilio_dom)"
   ]
  },
  {
   "cell_type": "code",
   "execution_count": 59,
   "metadata": {},
   "outputs": [
    {
     "data": {
      "text/plain": [
       "Ttest_indResult(statistic=36.16999283206143, pvalue=3.0530418558316513e-284)"
      ]
     },
     "execution_count": 59,
     "metadata": {},
     "output_type": "execute_result"
    }
   ],
   "source": [
    "from scipy import stats\n",
    "AC = domicilio_dom[domicilio_dom['UF']=='AC']\n",
    "RO = domicilio_dom[domicilio_dom['UF']=='RO']\n",
    "stats.ttest_ind(AC['MORADORES'],RO['MORADORES'])"
   ]
  },
  {
   "cell_type": "markdown",
   "metadata": {},
   "source": [
    "**Teste T**\n",
    "\n",
    "**H0:** Este é um teste bilateral para a hipótese nula de que 2 amostras independentes têm valores médios (esperados) idênticos.\n",
    "\n",
    "**H1:** As 2 amostras independentes têm valores médios (esperados) diferentes.\n",
    "\n",
    "P Valor menor que 0.05, então, com 5% de significância rejeitamos a hipótese nula, ou seja, os estados (AC e RO) tem médias de moradores iguais. Ou, não temos evidências estatísticas para dizer que a média de moradores é diferente entre os dois estados. "
   ]
  },
  {
   "cell_type": "code",
   "execution_count": null,
   "metadata": {},
   "outputs": [],
   "source": []
  }
 ],
 "metadata": {
  "kernelspec": {
   "display_name": "Python 3",
   "language": "python",
   "name": "python3"
  },
  "language_info": {
   "codemirror_mode": {
    "name": "ipython",
    "version": 3
   },
   "file_extension": ".py",
   "mimetype": "text/x-python",
   "name": "python",
   "nbconvert_exporter": "python",
   "pygments_lexer": "ipython3",
   "version": "3.7.1"
  }
 },
 "nbformat": 4,
 "nbformat_minor": 2
}
